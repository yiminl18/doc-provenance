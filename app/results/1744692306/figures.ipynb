{
 "cells": [
  {
   "cell_type": "code",
   "execution_count": 13,
   "metadata": {},
   "outputs": [],
   "source": [
    "# Full string-injected dataset_dict with all datasets pasted in\n",
    "dataset_dict = {\n",
    "    \"paper\": \"\"\"LLM_score_sufficient_bottem_up_sequential_greedy\n",
    "provenance_size, size_ratio: 141.4836956521739 0.03236416543346992\n",
    "time: 15.403573899165444\n",
    "tokens: 11230.491847826086 240.77173913043478\n",
    "\n",
    "LLM_score_sufficient_top_down_null\n",
    "provenance_size, size_ratio: 1008.9352750809062 0.19638298332818555\n",
    "time: 3.7807594086360004\n",
    "tokens: 4105.132686084143 39.07119741100323\n",
    "\n",
    "LLM_score_sufficient_top_down_exponential_greedy\n",
    "provenance_size, size_ratio: 135.15359477124184 0.03201665045453362\n",
    "time: 15.601160357980167\n",
    "tokens: 12493.898692810457 238.62418300653596\n",
    "\n",
    "LLM_score_sufficient_top_down_sequential_greedy\n",
    "provenance_size, size_ratio: 123.76450511945393 0.03271914226764511\n",
    "time: 16.075270874101555\n",
    "tokens: 13275.040955631399 247.7064846416382\n",
    "\n",
    "embedding_sufficient_bottem_up_null\n",
    "provenance_size, size_ratio: 484.2989417989418 0.10030732776568882\n",
    "time: 2.662069279680807\n",
    "tokens: 1861.8201058201057 35.51587301587302\n",
    "\n",
    "embedding_sufficient_bottem_up_exponential_greedy\n",
    "provenance_size, size_ratio: 149.13110539845758 0.03735410099278428\n",
    "time: 20.450401596054625\n",
    "tokens: 15988.25706940874 365.6452442159383\n",
    "\n",
    "embedding_sufficient_bottem_up_sequential_greedy\n",
    "provenance_size, size_ratio: 133.4836956521739 0.031152806141233034\n",
    "time: 12.973069652267124\n",
    "tokens: 7993.73097826087 218.6820652173913\n",
    "\n",
    "embedding_sufficient_top_down_null\n",
    "provenance_size, size_ratio: 1052.974358974359 0.20860218686307547\n",
    "time: 3.188128208502745\n",
    "tokens: 4339.974358974359 44.31089743589744\n",
    "\n",
    "embedding_sufficient_top_down_exponential_greedy\n",
    "provenance_size, size_ratio: 145.89240506329114 0.035833471976972765\n",
    "time: 21.20234606311291\n",
    "tokens: 19912.949367088608 351.6898734177215\n",
    "\n",
    "embedding_sufficient_top_down_sequential_greedy\n",
    "provenance_size, size_ratio: 193.2826086956522 0.0465458732765233\n",
    "time: 23.929016879626683\n",
    "tokens: 28104.341614906833 416.67391304347825\n",
    "\n",
    "divide_and_conquer_sufficient_null\n",
    "provenance_size, size_ratio: 836.2079510703364 0.16396141904048067\n",
    "time: 3.9249465392634773\n",
    "tokens: 6193.269113149847 53.41896024464832\n",
    "\n",
    "divide_and_conquer_sufficient_exponential_greedy\n",
    "provenance_size, size_ratio: 103.60725075528701 0.02607476789317708\n",
    "time: 12.249118763154367\n",
    "tokens: 12919.740181268882 195.19335347432025\n",
    "\n",
    "divide_and_conquer_sufficient_sequential_greedy\n",
    "provenance_size, size_ratio: 112.93167701863354 0.02778724190951269\n",
    "time: 13.669054200190194\n",
    "tokens: 13730.695652173914 224.00310559006212\"\"\",\n",
    "    \"nl_dev\": \"\"\"LLM_score_sufficient_bottem_up_null\n",
    "provenance_size, size_ratio: 967.1205211726384 0.14779883320405557\n",
    "time: 2.5396051298135265\n",
    "tokens: 1621.2247557003257 22.697068403908794\n",
    "\n",
    "LLM_score_sufficient_bottem_up_exponential_greedy\n",
    "provenance_size, size_ratio: 217.751677852349 0.04642450488522705\n",
    "time: 13.1322757165704\n",
    "tokens: 12452.808724832215 201.46644295302013\n",
    "\n",
    "LLM_score_sufficient_bottem_up_sequential_greedy\n",
    "provenance_size, size_ratio: 232.0242214532872 0.04960267933679339\n",
    "time: 17.215952774232647\n",
    "tokens: 20399.553633217995 255.03114186851212\n",
    "\n",
    "LLM_score_sufficient_top_down_null\n",
    "provenance_size, size_ratio: 1875.1672727272728 0.23741609601230595\n",
    "time: 3.790302284414118\n",
    "tokens: 6944.058181818182 38.64363636363636\n",
    "\n",
    "LLM_score_sufficient_top_down_exponential_greedy\n",
    "provenance_size, size_ratio: 241.01908396946564 0.0538201072155819\n",
    "time: 15.282924649369626\n",
    "tokens: 26916.858778625956 211.1908396946565\n",
    "\n",
    "LLM_score_sufficient_top_down_sequential_greedy\n",
    "provenance_size, size_ratio: 240.08139534883722 0.055587977884532486\n",
    "time: 18.336572660032168\n",
    "tokens: 26844.267441860466 273.5426356589147\n",
    "\n",
    "embedding_sufficient_bottem_up_null\n",
    "provenance_size, size_ratio: 603.4890965732087 0.12069324026862863\n",
    "time: 2.491720745496661\n",
    "tokens: 1960.7383177570093 41.14018691588785\n",
    "\n",
    "embedding_sufficient_bottem_up_exponential_greedy\n",
    "provenance_size, size_ratio: 157.80968858131487 0.035753862059879224\n",
    "time: 9.418145607087027\n",
    "tokens: 6592.294117647059 149.33217993079586\n",
    "\n",
    "embedding_sufficient_bottem_up_sequential_greedy\n",
    "provenance_size, size_ratio: 164.91034482758621 0.0396195417047691\n",
    "time: 8.88267331945485\n",
    "tokens: 6249.5 148.7896551724138\n",
    "\n",
    "embedding_sufficient_top_down_null\n",
    "provenance_size, size_ratio: 1372.530909090909 0.21111702214268502\n",
    "time: 3.3227526239915326\n",
    "tokens: 7969.403636363636 46.24727272727273\n",
    "\n",
    "embedding_sufficient_top_down_exponential_greedy\n",
    "provenance_size, size_ratio: 190.24603174603175 0.04487104172063085\n",
    "time: 13.110886604066879\n",
    "tokens: 19660.20238095238 199.22222222222223\n",
    "\n",
    "embedding_sufficient_top_down_sequential_greedy\n",
    "provenance_size, size_ratio: 197.624 0.044666074479508704\n",
    "time: 12.195801460266113\n",
    "tokens: 19036.744 190.88\n",
    "\n",
    "divide_and_conquer_sufficient_null\n",
    "provenance_size, size_ratio: 1109.125 0.16678280914702576\n",
    "time: 3.7009963018553598\n",
    "tokens: 8533.992857142857 58.642857142857146\n",
    "\n",
    "divide_and_conquer_sufficient_exponential_greedy\n",
    "provenance_size, size_ratio: 182.7509433962264 0.044502473875489786\n",
    "time: 8.988645762317585\n",
    "tokens: 14619.158490566038 138.81509433962265\n",
    "\n",
    "divide_and_conquer_sufficient_sequential_greedy\n",
    "provenance_size, size_ratio: 204.14126394052045 0.046169678330535015\n",
    "time: 12.470636262326435\n",
    "tokens: 20372.65055762082 209.38661710037175\"\"\",\n",
    "    \"hotpotQA\": \"\"\"LLM_score_sufficient_bottem_up_null\n",
    "provenance_size, size_ratio: 265.16083916083915 0.23090560392891496\n",
    "time: 1.4153014421463013\n",
    "tokens: 352.6993006993007 4.856643356643357\n",
    "\n",
    "LLM_score_sufficient_bottem_up_exponential_greedy\n",
    "provenance_size, size_ratio: 81.89626556016597 0.07285952510178059\n",
    "time: 4.631294662032385\n",
    "tokens: 1927.1244813278008 28.116182572614107\n",
    "\n",
    "LLM_score_sufficient_bottem_up_sequential_greedy\n",
    "provenance_size, size_ratio: 86.53526970954357 0.076962214372749\n",
    "time: 4.7644908329263265\n",
    "tokens: 1882.2946058091286 31.477178423236513\n",
    "\n",
    "LLM_score_sufficient_top_down_null\n",
    "provenance_size, size_ratio: 348.31481481481484 0.29476059449781594\n",
    "time: 1.7444683233896892\n",
    "tokens: 922.6407407407407 7.92962962962963\n",
    "\n",
    "LLM_score_sufficient_top_down_exponential_greedy\n",
    "provenance_size, size_ratio: 94.25806451612904 0.08315657205944613\n",
    "time: 5.503831173143079\n",
    "tokens: 3187.701612903226 36.733870967741936\n",
    "\n",
    "LLM_score_sufficient_top_down_sequential_greedy\n",
    "provenance_size, size_ratio: 101.4089068825911 0.09059141755755763\n",
    "time: 5.901728580837791\n",
    "tokens: 3693.1457489878544 40.659919028340084\n",
    "\n",
    "embedding_sufficient_bottem_up_null\n",
    "provenance_size, size_ratio: 265.94871794871796 0.234010610729305\n",
    "time: 3.5013677165621804\n",
    "tokens: 419.8131868131868 5.117216117216117\n",
    "\n",
    "embedding_sufficient_bottem_up_exponential_greedy\n",
    "provenance_size, size_ratio: 86.69787234042553 0.0770392222131824\n",
    "time: 7.152930596534242\n",
    "tokens: 2006.2212765957447 28.106382978723403\n",
    "\n",
    "embedding_sufficient_bottem_up_sequential_greedy\n",
    "provenance_size, size_ratio: 88.62083333333334 0.07874768442584107\n",
    "time: 7.339660507440567\n",
    "tokens: 2221.4958333333334 32.42916666666667\n",
    "\n",
    "embedding_sufficient_top_down_null\n",
    "provenance_size, size_ratio: 355.60215053763443 0.3054232025661478\n",
    "time: 4.144934187653244\n",
    "tokens: 1179.200716845878 10.290322580645162\n",
    "\n",
    "embedding_sufficient_top_down_exponential_greedy\n",
    "provenance_size, size_ratio: 89.60833333333333 0.08170875932292977\n",
    "time: 8.191947561502456\n",
    "tokens: 3832.225 40.67916666666667\n",
    "\n",
    "embedding_sufficient_top_down_sequential_greedy\n",
    "provenance_size, size_ratio: 95.56118143459915 0.08674857440720533\n",
    "time: 8.145133190517184\n",
    "tokens: 4082.590717299578 43.358649789029535\n",
    "\n",
    "divide_and_conquer_sufficient_null\n",
    "provenance_size, size_ratio: 259.76223776223776 0.22127256835741554\n",
    "time: 2.062281051715771\n",
    "tokens: 1637.2622377622379 13.695804195804195\n",
    "\n",
    "divide_and_conquer_sufficient_exponential_greedy\n",
    "provenance_size, size_ratio: 82.42424242424242 0.07434038359099068\n",
    "time: 4.988634642068442\n",
    "tokens: 3131.307359307359 32.58008658008658\n",
    "\n",
    "divide_and_conquer_sufficient_sequential_greedy\n",
    "provenance_size, size_ratio: 85.64963503649635 0.07377602523730005\n",
    "time: 5.413685370535746\n",
    "tokens: 3451.912408759124 34.97080291970803\"\"\"\n",
    "}"
   ]
  },
  {
   "cell_type": "code",
   "execution_count": 14,
   "metadata": {},
   "outputs": [
    {
     "data": {
      "application/vnd.plotly.v1+json": {
       "config": {
        "plotlyServerURL": "https://plot.ly"
       },
       "data": [
        {
         "alignmentgroup": "True",
         "hovertemplate": "Metric=Provenance Size<br>Dataset=paper<br>Strategy=%{x}<br>Value=%{y}<extra></extra>",
         "legendgroup": "Provenance Size",
         "marker": {
          "color": "#636efa",
          "pattern": {
           "shape": ""
          }
         },
         "name": "Provenance Size",
         "offsetgroup": "Provenance Size",
         "orientation": "v",
         "showlegend": true,
         "textposition": "auto",
         "type": "bar",
         "x": [
          "unknown_strategy_0",
          "unknown_strategy_1",
          "unknown_strategy_2",
          "unknown_strategy_3",
          "embedding_bottem_up_null",
          "embedding_bottem_up_exponential_greedy",
          "embedding_bottem_up_sequential_greedy",
          "embedding_top_down_null",
          "embedding_top_down_exponential_greedy",
          "embedding_top_down_sequential_greedy",
          "divide_and_conquer_null",
          "divide_and_conquer_exponential_greedy",
          "divide_and_conquer_sequential_greedy"
         ],
         "xaxis": "x",
         "y": {
          "bdata": "velNb3qvYUAMaoBxe4ePQEDqlD/q5GBAeGvhpu3wXkDNHTJ3yER+QIrW8gMypGJAvelNb3qvYEC+5Vu+5XOQQNkzEJWOPGJAhixkIQspaEAbMkDiqSGKQHWbRTLd5llA0F2lmKA7XEA=",
          "dtype": "f8"
         },
         "yaxis": "y"
        },
        {
         "alignmentgroup": "True",
         "hovertemplate": "Metric=Provenance Size<br>Dataset=nl_dev<br>Strategy=%{x}<br>Value=%{y}<extra></extra>",
         "legendgroup": "Provenance Size",
         "marker": {
          "color": "#636efa",
          "pattern": {
           "shape": ""
          }
         },
         "name": "Provenance Size",
         "offsetgroup": "Provenance Size",
         "orientation": "v",
         "showlegend": false,
         "textposition": "auto",
         "type": "bar",
         "x": [
          "unknown_strategy_13",
          "unknown_strategy_14",
          "unknown_strategy_15",
          "unknown_strategy_16",
          "unknown_strategy_17",
          "unknown_strategy_18",
          "embedding_bottem_up_null",
          "embedding_bottem_up_exponential_greedy",
          "embedding_bottem_up_sequential_greedy",
          "embedding_top_down_null",
          "embedding_top_down_exponential_greedy",
          "embedding_top_down_sequential_greedy",
          "divide_and_conquer_null",
          "divide_and_conquer_exponential_greedy",
          "divide_and_conquer_sequential_greedy"
         ],
         "xaxis": "x2",
         "y": {
          "bdata": "qffN0/Y4jkDtHra+DThrQF23EWzGAG1AmbSKSatMnUBzF/xVnCBuQK0pa8qaAm5AI9R2q+nbgkAlFgf46LljQBnSeYshnWRAavqhph9ylUB+3/d938dnQIcW2c73s2hAAAAAAIBUkUAR/nG6B9hmQHaU9DuFhGlA",
          "dtype": "f8"
         },
         "yaxis": "y2"
        },
        {
         "alignmentgroup": "True",
         "hovertemplate": "Metric=Provenance Size<br>Dataset=hotpotQA<br>Strategy=%{x}<br>Value=%{y}<extra></extra>",
         "legendgroup": "Provenance Size",
         "marker": {
          "color": "#636efa",
          "pattern": {
           "shape": ""
          }
         },
         "name": "Provenance Size",
         "offsetgroup": "Provenance Size",
         "orientation": "v",
         "showlegend": false,
         "textposition": "auto",
         "type": "bar",
         "x": [
          "unknown_strategy_28",
          "unknown_strategy_29",
          "unknown_strategy_30",
          "unknown_strategy_31",
          "unknown_strategy_32",
          "unknown_strategy_33",
          "embedding_bottem_up_null",
          "embedding_bottem_up_exponential_greedy",
          "embedding_bottem_up_sequential_greedy",
          "embedding_top_down_null",
          "embedding_top_down_exponential_greedy",
          "embedding_top_down_sequential_greedy",
          "divide_and_conquer_null",
          "divide_and_conquer_exponential_greedy",
          "divide_and_conquer_sequential_greedy"
         ],
         "xaxis": "x3",
         "y": {
          "bdata": "hnsVzJKScEBqXDlqXHlUQNxB4ttBolVA0V5CewnFdUARQgghhJBXQKP1xYcrWllA8y3f8i2fcEBIur/wqaxVQLy7u7u7J1ZAiiaaaKI5dkDv7u7u7mZWQHIuiWXq41dAZkk5IDI8cECbbLLJJptUQJsF1Z6TaVVA",
          "dtype": "f8"
         },
         "yaxis": "y3"
        },
        {
         "alignmentgroup": "True",
         "hovertemplate": "Metric=Size Ratio<br>Dataset=paper<br>Strategy=%{x}<br>Value=%{y}<extra></extra>",
         "legendgroup": "Size Ratio",
         "marker": {
          "color": "#EF553B",
          "pattern": {
           "shape": ""
          }
         },
         "name": "Size Ratio",
         "offsetgroup": "Size Ratio",
         "orientation": "v",
         "showlegend": true,
         "textposition": "auto",
         "type": "bar",
         "x": [
          "unknown_strategy_0",
          "unknown_strategy_1",
          "unknown_strategy_2",
          "unknown_strategy_3",
          "embedding_bottem_up_null",
          "embedding_bottem_up_exponential_greedy",
          "embedding_bottem_up_sequential_greedy",
          "embedding_top_down_null",
          "embedding_top_down_exponential_greedy",
          "embedding_top_down_sequential_greedy",
          "divide_and_conquer_null",
          "divide_and_conquer_exponential_greedy",
          "divide_and_conquer_sequential_greedy"
         ],
         "xaxis": "x",
         "y": {
          "bdata": "h7syMAmSoD8WV3HdEyPJPyFmQoV8ZKA/GET8O5DAoD9mg020va25P+VeRaQTIKM/mYw4boXmnz8Kujn5ebPKP7WIfMzDWKI/FQ35VtzUpz+01EoSsPzEPx5vaA1Ys5o/zFX9PEJ0nD8=",
          "dtype": "f8"
         },
         "yaxis": "y"
        },
        {
         "alignmentgroup": "True",
         "hovertemplate": "Metric=Size Ratio<br>Dataset=nl_dev<br>Strategy=%{x}<br>Value=%{y}<extra></extra>",
         "legendgroup": "Size Ratio",
         "marker": {
          "color": "#EF553B",
          "pattern": {
           "shape": ""
          }
         },
         "name": "Size Ratio",
         "offsetgroup": "Size Ratio",
         "orientation": "v",
         "showlegend": false,
         "textposition": "auto",
         "type": "bar",
         "x": [
          "unknown_strategy_13",
          "unknown_strategy_14",
          "unknown_strategy_15",
          "unknown_strategy_16",
          "unknown_strategy_17",
          "unknown_strategy_18",
          "embedding_bottem_up_null",
          "embedding_bottem_up_exponential_greedy",
          "embedding_bottem_up_sequential_greedy",
          "embedding_top_down_null",
          "embedding_top_down_exponential_greedy",
          "embedding_top_down_sequential_greedy",
          "divide_and_conquer_null",
          "divide_and_conquer_exponential_greedy",
          "divide_and_conquer_sequential_greedy"
         ],
         "xaxis": "x2",
         "y": {
          "bdata": "1sp/eRLrwj8KGm7k88SnPx1MF7uFZak/WFv1j6Zjzj/ZXbcgT46rP3wyIQYHdqw/2lHNj8Dlvj8GeYGIVE6iP34ZzzcDSaQ/qKnd8OEFyz/ignRRVvmmP0eoQsJ43qY/biZpmyNZxT8hzMU7B8mmP6Uz/lSNo6c/",
          "dtype": "f8"
         },
         "yaxis": "y2"
        },
        {
         "alignmentgroup": "True",
         "hovertemplate": "Metric=Size Ratio<br>Dataset=hotpotQA<br>Strategy=%{x}<br>Value=%{y}<extra></extra>",
         "legendgroup": "Size Ratio",
         "marker": {
          "color": "#EF553B",
          "pattern": {
           "shape": ""
          }
         },
         "name": "Size Ratio",
         "offsetgroup": "Size Ratio",
         "orientation": "v",
         "showlegend": false,
         "textposition": "auto",
         "type": "bar",
         "x": [
          "unknown_strategy_28",
          "unknown_strategy_29",
          "unknown_strategy_30",
          "unknown_strategy_31",
          "unknown_strategy_32",
          "unknown_strategy_33",
          "embedding_bottem_up_null",
          "embedding_bottem_up_exponential_greedy",
          "embedding_bottem_up_sequential_greedy",
          "embedding_top_down_null",
          "embedding_top_down_exponential_greedy",
          "embedding_top_down_sequential_greedy",
          "divide_and_conquer_null",
          "divide_and_conquer_exponential_greedy",
          "divide_and_conquer_sequential_greedy"
         ],
         "xaxis": "x3",
         "y": {
          "bdata": "pj2rmFCOzT8mpYP966ayPwo6wrHLs7M/9yBhilvd0j+WWnHFv0m1P9k+tcf/MLc/wur/Rw/0zT+SNuqr17izP7SlPunOKLQ/G4Sdwg2M0z9BthaB3eq0P7u2DZInNbY/SmtM1qhSzD9Wn0us+AezP82Bn0/84rI/",
          "dtype": "f8"
         },
         "yaxis": "y3"
        },
        {
         "alignmentgroup": "True",
         "hovertemplate": "Metric=Time (s)<br>Dataset=paper<br>Strategy=%{x}<br>Value=%{y}<extra></extra>",
         "legendgroup": "Time (s)",
         "marker": {
          "color": "#00cc96",
          "pattern": {
           "shape": ""
          }
         },
         "name": "Time (s)",
         "offsetgroup": "Time (s)",
         "orientation": "v",
         "showlegend": true,
         "textposition": "auto",
         "type": "bar",
         "x": [
          "unknown_strategy_0",
          "unknown_strategy_1",
          "unknown_strategy_2",
          "unknown_strategy_3",
          "embedding_bottem_up_null",
          "embedding_bottem_up_exponential_greedy",
          "embedding_bottem_up_sequential_greedy",
          "embedding_top_down_null",
          "embedding_top_down_exponential_greedy",
          "embedding_top_down_sequential_greedy",
          "divide_and_conquer_null",
          "divide_and_conquer_exponential_greedy",
          "divide_and_conquer_sequential_greedy"
         ],
         "xaxis": "x",
         "y": {
          "bdata": "nN70PKHOLkBeFvHJ/j4OQFpaWkrLMy9Ahpu280QTMECgUn/66ksFQO4e3YRNczRATm96LzbyKUB9y7dcSYEJQFeLm/PMMzVAt23bDNTtN0DpegVfSmYPQM4imX6MfyhA+yKqRY5WK0A=",
          "dtype": "f8"
         },
         "yaxis": "y"
        },
        {
         "alignmentgroup": "True",
         "hovertemplate": "Metric=Time (s)<br>Dataset=nl_dev<br>Strategy=%{x}<br>Value=%{y}<extra></extra>",
         "legendgroup": "Time (s)",
         "marker": {
          "color": "#00cc96",
          "pattern": {
           "shape": ""
          }
         },
         "name": "Time (s)",
         "offsetgroup": "Time (s)",
         "orientation": "v",
         "showlegend": false,
         "textposition": "auto",
         "type": "bar",
         "x": [
          "unknown_strategy_13",
          "unknown_strategy_14",
          "unknown_strategy_15",
          "unknown_strategy_16",
          "unknown_strategy_17",
          "unknown_strategy_18",
          "embedding_bottem_up_null",
          "embedding_bottem_up_exponential_greedy",
          "embedding_bottem_up_sequential_greedy",
          "embedding_top_down_null",
          "embedding_top_down_exponential_greedy",
          "embedding_top_down_sequential_greedy",
          "divide_and_conquer_null",
          "divide_and_conquer_exponential_greedy",
          "divide_and_conquer_sequential_greedy"
         ],
         "xaxis": "x2",
         "y": {
          "bdata": "Z2yKfhxRBEAdc4mkuUMqQEjPVq5INzFAERoMAYpSDkC0jOh/25AuQN6QN6ApVjJAGGJFSQvvA0BIz1YuF9YiQH844MHtwyFAPu/lU/+UCkBBEAQhxjgqQDm0yBZAZChAi6/48qObDUBO9wDHL/ohQOcBdjz38ChA",
          "dtype": "f8"
         },
         "yaxis": "y2"
        },
        {
         "alignmentgroup": "True",
         "hovertemplate": "Metric=Time (s)<br>Dataset=hotpotQA<br>Strategy=%{x}<br>Value=%{y}<extra></extra>",
         "legendgroup": "Time (s)",
         "marker": {
          "color": "#00cc96",
          "pattern": {
           "shape": ""
          }
         },
         "name": "Time (s)",
         "offsetgroup": "Time (s)",
         "orientation": "v",
         "showlegend": false,
         "textposition": "auto",
         "type": "bar",
         "x": [
          "unknown_strategy_28",
          "unknown_strategy_29",
          "unknown_strategy_30",
          "unknown_strategy_31",
          "unknown_strategy_32",
          "unknown_strategy_33",
          "embedding_bottem_up_null",
          "embedding_bottem_up_exponential_greedy",
          "embedding_bottem_up_sequential_greedy",
          "embedding_top_down_null",
          "embedding_top_down_exponential_greedy",
          "embedding_top_down_sequential_greedy",
          "divide_and_conquer_null",
          "divide_and_conquer_exponential_greedy",
          "divide_and_conquer_sequential_greedy"
         ],
         "xaxis": "x3",
         "y": {
          "bdata": "AAAAIBOl9j8cRp4bcoYSQJ8KVq/WDhNA3t3dnVfp+z9ba61R7AMWQGhEsrxemxdA9DzPE80CDEB6sJrWmZwcQM3MzPbPWx1ACyywoGmUEEBmZmbzRmIgQL+rxeVOSiBA3jxCNY1/AECqgb2jXPQTQIEjRSOdpxVA",
          "dtype": "f8"
         },
         "yaxis": "y3"
        },
        {
         "alignmentgroup": "True",
         "hovertemplate": "Metric=Tokens Used<br>Dataset=paper<br>Strategy=%{x}<br>Value=%{y}<extra></extra>",
         "legendgroup": "Tokens Used",
         "marker": {
          "color": "#ab63fa",
          "pattern": {
           "shape": ""
          }
         },
         "name": "Tokens Used",
         "offsetgroup": "Tokens Used",
         "orientation": "v",
         "showlegend": true,
         "textposition": "auto",
         "type": "bar",
         "x": [
          "unknown_strategy_0",
          "unknown_strategy_1",
          "unknown_strategy_2",
          "unknown_strategy_3",
          "embedding_bottem_up_null",
          "embedding_bottem_up_exponential_greedy",
          "embedding_bottem_up_sequential_greedy",
          "embedding_top_down_null",
          "embedding_top_down_exponential_greedy",
          "embedding_top_down_sequential_greedy",
          "divide_and_conquer_null",
          "divide_and_conquer_exponential_greedy",
          "divide_and_conquer_sequential_greedy"
         ],
         "xaxis": "x",
         "y": {
          "bdata": "05ve9D7vxUAHGLf3IQmwQAizXQjzZshAubwIPoXtyUB08tHJRxedQKx/pucgOs9AhixkIbs5v0Bw+ZZv+fOwQF4tbsI8ctNAK8UE3RVy20CEcZnkRDG4QHuDQr7eO8lALWQhC1nRykA=",
          "dtype": "f8"
         },
         "yaxis": "y"
        },
        {
         "alignmentgroup": "True",
         "hovertemplate": "Metric=Tokens Used<br>Dataset=nl_dev<br>Strategy=%{x}<br>Value=%{y}<extra></extra>",
         "legendgroup": "Tokens Used",
         "marker": {
          "color": "#ab63fa",
          "pattern": {
           "shape": ""
          }
         },
         "name": "Tokens Used",
         "offsetgroup": "Tokens Used",
         "orientation": "v",
         "showlegend": false,
         "textposition": "auto",
         "type": "bar",
         "x": [
          "unknown_strategy_13",
          "unknown_strategy_14",
          "unknown_strategy_15",
          "unknown_strategy_16",
          "unknown_strategy_17",
          "unknown_strategy_18",
          "embedding_bottem_up_null",
          "embedding_bottem_up_exponential_greedy",
          "embedding_bottem_up_sequential_greedy",
          "embedding_top_down_null",
          "embedding_top_down_exponential_greedy",
          "embedding_top_down_sequential_greedy",
          "divide_and_conquer_null",
          "divide_and_conquer_exponential_greedy",
          "divide_and_conquer_sequential_greedy"
         ],
         "xaxis": "x2",
         "y": {
          "bdata": "9LlbJuZUmUDqmEuEZ1LIQFEFum7j69NAUO4A5Q4gu0A/oDr2NknaQBJ3xB0RN9pApfGRCfSinkBLS0tLS8C5QAAAAACAabhAS3W2VGchv0D0PM/zDDPTQA4tsp0vl9JAFl/xFf+qwEDuOmtJlI3MQGVuvKIp5dNA",
          "dtype": "f8"
         },
         "yaxis": "y2"
        },
        {
         "alignmentgroup": "True",
         "hovertemplate": "Metric=Tokens Used<br>Dataset=hotpotQA<br>Strategy=%{x}<br>Value=%{y}<extra></extra>",
         "legendgroup": "Tokens Used",
         "marker": {
          "color": "#ab63fa",
          "pattern": {
           "shape": ""
          }
         },
         "name": "Tokens Used",
         "offsetgroup": "Tokens Used",
         "orientation": "v",
         "showlegend": false,
         "textposition": "auto",
         "type": "bar",
         "x": [
          "unknown_strategy_28",
          "unknown_strategy_29",
          "unknown_strategy_30",
          "unknown_strategy_31",
          "unknown_strategy_32",
          "unknown_strategy_33",
          "embedding_bottem_up_null",
          "embedding_bottem_up_exponential_greedy",
          "embedding_bottem_up_sequential_greedy",
          "embedding_top_down_null",
          "embedding_top_down_exponential_greedy",
          "embedding_top_down_sequential_greedy",
          "divide_and_conquer_null",
          "divide_and_conquer_exponential_greedy",
          "divide_and_conquer_sequential_greedy"
         ],
         "xaxis": "x3",
         "y": {
          "bdata": "EBnuVTALdkB4fwh4fxyeQK0tJa0taZ1AknWuPCDVjECdc845Z+eoQIWAnJ9K2qxA0AIt0AI9ekBg+FSW4lifQN7d3d39WqFANoO3iM1skkAzMzMzc/CtQL11f3Iu5a9AWlIOiAyVmUB1+jJenXaoQAuqPSfT96pA",
          "dtype": "f8"
         },
         "yaxis": "y3"
        }
       ],
       "layout": {
        "annotations": [
         {
          "font": {},
          "showarrow": false,
          "text": "Dataset=paper",
          "x": 0.15999999999999998,
          "xanchor": "center",
          "xref": "paper",
          "y": 1,
          "yanchor": "bottom",
          "yref": "paper"
         },
         {
          "font": {},
          "showarrow": false,
          "text": "Dataset=nl_dev",
          "x": 0.49999999999999994,
          "xanchor": "center",
          "xref": "paper",
          "y": 1,
          "yanchor": "bottom",
          "yref": "paper"
         },
         {
          "font": {},
          "showarrow": false,
          "text": "Dataset=hotpotQA",
          "x": 0.8399999999999999,
          "xanchor": "center",
          "xref": "paper",
          "y": 1,
          "yanchor": "bottom",
          "yref": "paper"
         }
        ],
        "barmode": "group",
        "font": {
         "size": 13
        },
        "height": 800,
        "legend": {
         "title": {
          "text": "Metric"
         },
         "tracegroupgap": 0
        },
        "template": {
         "data": {
          "bar": [
           {
            "error_x": {
             "color": "#2a3f5f"
            },
            "error_y": {
             "color": "#2a3f5f"
            },
            "marker": {
             "line": {
              "color": "white",
              "width": 0.5
             },
             "pattern": {
              "fillmode": "overlay",
              "size": 10,
              "solidity": 0.2
             }
            },
            "type": "bar"
           }
          ],
          "barpolar": [
           {
            "marker": {
             "line": {
              "color": "white",
              "width": 0.5
             },
             "pattern": {
              "fillmode": "overlay",
              "size": 10,
              "solidity": 0.2
             }
            },
            "type": "barpolar"
           }
          ],
          "carpet": [
           {
            "aaxis": {
             "endlinecolor": "#2a3f5f",
             "gridcolor": "#C8D4E3",
             "linecolor": "#C8D4E3",
             "minorgridcolor": "#C8D4E3",
             "startlinecolor": "#2a3f5f"
            },
            "baxis": {
             "endlinecolor": "#2a3f5f",
             "gridcolor": "#C8D4E3",
             "linecolor": "#C8D4E3",
             "minorgridcolor": "#C8D4E3",
             "startlinecolor": "#2a3f5f"
            },
            "type": "carpet"
           }
          ],
          "choropleth": [
           {
            "colorbar": {
             "outlinewidth": 0,
             "ticks": ""
            },
            "type": "choropleth"
           }
          ],
          "contour": [
           {
            "colorbar": {
             "outlinewidth": 0,
             "ticks": ""
            },
            "colorscale": [
             [
              0,
              "#0d0887"
             ],
             [
              0.1111111111111111,
              "#46039f"
             ],
             [
              0.2222222222222222,
              "#7201a8"
             ],
             [
              0.3333333333333333,
              "#9c179e"
             ],
             [
              0.4444444444444444,
              "#bd3786"
             ],
             [
              0.5555555555555556,
              "#d8576b"
             ],
             [
              0.6666666666666666,
              "#ed7953"
             ],
             [
              0.7777777777777778,
              "#fb9f3a"
             ],
             [
              0.8888888888888888,
              "#fdca26"
             ],
             [
              1,
              "#f0f921"
             ]
            ],
            "type": "contour"
           }
          ],
          "contourcarpet": [
           {
            "colorbar": {
             "outlinewidth": 0,
             "ticks": ""
            },
            "type": "contourcarpet"
           }
          ],
          "heatmap": [
           {
            "colorbar": {
             "outlinewidth": 0,
             "ticks": ""
            },
            "colorscale": [
             [
              0,
              "#0d0887"
             ],
             [
              0.1111111111111111,
              "#46039f"
             ],
             [
              0.2222222222222222,
              "#7201a8"
             ],
             [
              0.3333333333333333,
              "#9c179e"
             ],
             [
              0.4444444444444444,
              "#bd3786"
             ],
             [
              0.5555555555555556,
              "#d8576b"
             ],
             [
              0.6666666666666666,
              "#ed7953"
             ],
             [
              0.7777777777777778,
              "#fb9f3a"
             ],
             [
              0.8888888888888888,
              "#fdca26"
             ],
             [
              1,
              "#f0f921"
             ]
            ],
            "type": "heatmap"
           }
          ],
          "histogram": [
           {
            "marker": {
             "pattern": {
              "fillmode": "overlay",
              "size": 10,
              "solidity": 0.2
             }
            },
            "type": "histogram"
           }
          ],
          "histogram2d": [
           {
            "colorbar": {
             "outlinewidth": 0,
             "ticks": ""
            },
            "colorscale": [
             [
              0,
              "#0d0887"
             ],
             [
              0.1111111111111111,
              "#46039f"
             ],
             [
              0.2222222222222222,
              "#7201a8"
             ],
             [
              0.3333333333333333,
              "#9c179e"
             ],
             [
              0.4444444444444444,
              "#bd3786"
             ],
             [
              0.5555555555555556,
              "#d8576b"
             ],
             [
              0.6666666666666666,
              "#ed7953"
             ],
             [
              0.7777777777777778,
              "#fb9f3a"
             ],
             [
              0.8888888888888888,
              "#fdca26"
             ],
             [
              1,
              "#f0f921"
             ]
            ],
            "type": "histogram2d"
           }
          ],
          "histogram2dcontour": [
           {
            "colorbar": {
             "outlinewidth": 0,
             "ticks": ""
            },
            "colorscale": [
             [
              0,
              "#0d0887"
             ],
             [
              0.1111111111111111,
              "#46039f"
             ],
             [
              0.2222222222222222,
              "#7201a8"
             ],
             [
              0.3333333333333333,
              "#9c179e"
             ],
             [
              0.4444444444444444,
              "#bd3786"
             ],
             [
              0.5555555555555556,
              "#d8576b"
             ],
             [
              0.6666666666666666,
              "#ed7953"
             ],
             [
              0.7777777777777778,
              "#fb9f3a"
             ],
             [
              0.8888888888888888,
              "#fdca26"
             ],
             [
              1,
              "#f0f921"
             ]
            ],
            "type": "histogram2dcontour"
           }
          ],
          "mesh3d": [
           {
            "colorbar": {
             "outlinewidth": 0,
             "ticks": ""
            },
            "type": "mesh3d"
           }
          ],
          "parcoords": [
           {
            "line": {
             "colorbar": {
              "outlinewidth": 0,
              "ticks": ""
             }
            },
            "type": "parcoords"
           }
          ],
          "pie": [
           {
            "automargin": true,
            "type": "pie"
           }
          ],
          "scatter": [
           {
            "fillpattern": {
             "fillmode": "overlay",
             "size": 10,
             "solidity": 0.2
            },
            "type": "scatter"
           }
          ],
          "scatter3d": [
           {
            "line": {
             "colorbar": {
              "outlinewidth": 0,
              "ticks": ""
             }
            },
            "marker": {
             "colorbar": {
              "outlinewidth": 0,
              "ticks": ""
             }
            },
            "type": "scatter3d"
           }
          ],
          "scattercarpet": [
           {
            "marker": {
             "colorbar": {
              "outlinewidth": 0,
              "ticks": ""
             }
            },
            "type": "scattercarpet"
           }
          ],
          "scattergeo": [
           {
            "marker": {
             "colorbar": {
              "outlinewidth": 0,
              "ticks": ""
             }
            },
            "type": "scattergeo"
           }
          ],
          "scattergl": [
           {
            "marker": {
             "colorbar": {
              "outlinewidth": 0,
              "ticks": ""
             }
            },
            "type": "scattergl"
           }
          ],
          "scattermap": [
           {
            "marker": {
             "colorbar": {
              "outlinewidth": 0,
              "ticks": ""
             }
            },
            "type": "scattermap"
           }
          ],
          "scattermapbox": [
           {
            "marker": {
             "colorbar": {
              "outlinewidth": 0,
              "ticks": ""
             }
            },
            "type": "scattermapbox"
           }
          ],
          "scatterpolar": [
           {
            "marker": {
             "colorbar": {
              "outlinewidth": 0,
              "ticks": ""
             }
            },
            "type": "scatterpolar"
           }
          ],
          "scatterpolargl": [
           {
            "marker": {
             "colorbar": {
              "outlinewidth": 0,
              "ticks": ""
             }
            },
            "type": "scatterpolargl"
           }
          ],
          "scatterternary": [
           {
            "marker": {
             "colorbar": {
              "outlinewidth": 0,
              "ticks": ""
             }
            },
            "type": "scatterternary"
           }
          ],
          "surface": [
           {
            "colorbar": {
             "outlinewidth": 0,
             "ticks": ""
            },
            "colorscale": [
             [
              0,
              "#0d0887"
             ],
             [
              0.1111111111111111,
              "#46039f"
             ],
             [
              0.2222222222222222,
              "#7201a8"
             ],
             [
              0.3333333333333333,
              "#9c179e"
             ],
             [
              0.4444444444444444,
              "#bd3786"
             ],
             [
              0.5555555555555556,
              "#d8576b"
             ],
             [
              0.6666666666666666,
              "#ed7953"
             ],
             [
              0.7777777777777778,
              "#fb9f3a"
             ],
             [
              0.8888888888888888,
              "#fdca26"
             ],
             [
              1,
              "#f0f921"
             ]
            ],
            "type": "surface"
           }
          ],
          "table": [
           {
            "cells": {
             "fill": {
              "color": "#EBF0F8"
             },
             "line": {
              "color": "white"
             }
            },
            "header": {
             "fill": {
              "color": "#C8D4E3"
             },
             "line": {
              "color": "white"
             }
            },
            "type": "table"
           }
          ]
         },
         "layout": {
          "annotationdefaults": {
           "arrowcolor": "#2a3f5f",
           "arrowhead": 0,
           "arrowwidth": 1
          },
          "autotypenumbers": "strict",
          "coloraxis": {
           "colorbar": {
            "outlinewidth": 0,
            "ticks": ""
           }
          },
          "colorscale": {
           "diverging": [
            [
             0,
             "#8e0152"
            ],
            [
             0.1,
             "#c51b7d"
            ],
            [
             0.2,
             "#de77ae"
            ],
            [
             0.3,
             "#f1b6da"
            ],
            [
             0.4,
             "#fde0ef"
            ],
            [
             0.5,
             "#f7f7f7"
            ],
            [
             0.6,
             "#e6f5d0"
            ],
            [
             0.7,
             "#b8e186"
            ],
            [
             0.8,
             "#7fbc41"
            ],
            [
             0.9,
             "#4d9221"
            ],
            [
             1,
             "#276419"
            ]
           ],
           "sequential": [
            [
             0,
             "#0d0887"
            ],
            [
             0.1111111111111111,
             "#46039f"
            ],
            [
             0.2222222222222222,
             "#7201a8"
            ],
            [
             0.3333333333333333,
             "#9c179e"
            ],
            [
             0.4444444444444444,
             "#bd3786"
            ],
            [
             0.5555555555555556,
             "#d8576b"
            ],
            [
             0.6666666666666666,
             "#ed7953"
            ],
            [
             0.7777777777777778,
             "#fb9f3a"
            ],
            [
             0.8888888888888888,
             "#fdca26"
            ],
            [
             1,
             "#f0f921"
            ]
           ],
           "sequentialminus": [
            [
             0,
             "#0d0887"
            ],
            [
             0.1111111111111111,
             "#46039f"
            ],
            [
             0.2222222222222222,
             "#7201a8"
            ],
            [
             0.3333333333333333,
             "#9c179e"
            ],
            [
             0.4444444444444444,
             "#bd3786"
            ],
            [
             0.5555555555555556,
             "#d8576b"
            ],
            [
             0.6666666666666666,
             "#ed7953"
            ],
            [
             0.7777777777777778,
             "#fb9f3a"
            ],
            [
             0.8888888888888888,
             "#fdca26"
            ],
            [
             1,
             "#f0f921"
            ]
           ]
          },
          "colorway": [
           "#636efa",
           "#EF553B",
           "#00cc96",
           "#ab63fa",
           "#FFA15A",
           "#19d3f3",
           "#FF6692",
           "#B6E880",
           "#FF97FF",
           "#FECB52"
          ],
          "font": {
           "color": "#2a3f5f"
          },
          "geo": {
           "bgcolor": "white",
           "lakecolor": "white",
           "landcolor": "white",
           "showlakes": true,
           "showland": true,
           "subunitcolor": "#C8D4E3"
          },
          "hoverlabel": {
           "align": "left"
          },
          "hovermode": "closest",
          "mapbox": {
           "style": "light"
          },
          "paper_bgcolor": "white",
          "plot_bgcolor": "white",
          "polar": {
           "angularaxis": {
            "gridcolor": "#EBF0F8",
            "linecolor": "#EBF0F8",
            "ticks": ""
           },
           "bgcolor": "white",
           "radialaxis": {
            "gridcolor": "#EBF0F8",
            "linecolor": "#EBF0F8",
            "ticks": ""
           }
          },
          "scene": {
           "xaxis": {
            "backgroundcolor": "white",
            "gridcolor": "#DFE8F3",
            "gridwidth": 2,
            "linecolor": "#EBF0F8",
            "showbackground": true,
            "ticks": "",
            "zerolinecolor": "#EBF0F8"
           },
           "yaxis": {
            "backgroundcolor": "white",
            "gridcolor": "#DFE8F3",
            "gridwidth": 2,
            "linecolor": "#EBF0F8",
            "showbackground": true,
            "ticks": "",
            "zerolinecolor": "#EBF0F8"
           },
           "zaxis": {
            "backgroundcolor": "white",
            "gridcolor": "#DFE8F3",
            "gridwidth": 2,
            "linecolor": "#EBF0F8",
            "showbackground": true,
            "ticks": "",
            "zerolinecolor": "#EBF0F8"
           }
          },
          "shapedefaults": {
           "line": {
            "color": "#2a3f5f"
           }
          },
          "ternary": {
           "aaxis": {
            "gridcolor": "#DFE8F3",
            "linecolor": "#A2B1C6",
            "ticks": ""
           },
           "baxis": {
            "gridcolor": "#DFE8F3",
            "linecolor": "#A2B1C6",
            "ticks": ""
           },
           "bgcolor": "white",
           "caxis": {
            "gridcolor": "#DFE8F3",
            "linecolor": "#A2B1C6",
            "ticks": ""
           }
          },
          "title": {
           "x": 0.05
          },
          "xaxis": {
           "automargin": true,
           "gridcolor": "#EBF0F8",
           "linecolor": "#EBF0F8",
           "ticks": "",
           "title": {
            "standoff": 15
           },
           "zerolinecolor": "#EBF0F8",
           "zerolinewidth": 2
          },
          "yaxis": {
           "automargin": true,
           "gridcolor": "#EBF0F8",
           "linecolor": "#EBF0F8",
           "ticks": "",
           "title": {
            "standoff": 15
           },
           "zerolinecolor": "#EBF0F8",
           "zerolinewidth": 2
          }
         }
        },
        "title": {
         "font": {
          "size": 20
         },
         "text": "LLM Provenance Strategy Comparison Across Datasets"
        },
        "xaxis": {
         "anchor": "y",
         "domain": [
          0,
          0.31999999999999995
         ],
         "tickangle": 45,
         "title": {
          "text": "Strategy Variant"
         }
        },
        "xaxis2": {
         "anchor": "y2",
         "domain": [
          0.33999999999999997,
          0.6599999999999999
         ],
         "matches": "x",
         "tickangle": 45,
         "title": {
          "text": "Strategy"
         }
        },
        "xaxis3": {
         "anchor": "y3",
         "domain": [
          0.6799999999999999,
          0.9999999999999999
         ],
         "matches": "x",
         "tickangle": 45,
         "title": {
          "text": "Strategy"
         }
        },
        "yaxis": {
         "anchor": "x",
         "domain": [
          0,
          1
         ],
         "title": {
          "text": "Metric Value"
         }
        },
        "yaxis2": {
         "anchor": "x2",
         "domain": [
          0,
          1
         ],
         "matches": "y",
         "showticklabels": false
        },
        "yaxis3": {
         "anchor": "x3",
         "domain": [
          0,
          1
         ],
         "matches": "y",
         "showticklabels": false
        }
       }
      }
     },
     "metadata": {},
     "output_type": "display_data"
    }
   ],
   "source": [
    "import re\n",
    "import pandas as pd\n",
    "import plotly.express as px\n",
    "\n",
    "def parse_multiple_datasets(dataset_dict):\n",
    "    all_entries = []\n",
    "    for dataset_name, raw_data in dataset_dict.items():\n",
    "        pattern = re.compile(\n",
    "            r'(?P<strategy>(?:LLM|embedding|divide_and_conquer)_sufficient_[\\w_]+)?\\n'\n",
    "            r'(?:\\d+\\n)?'  # optional number line\n",
    "            r'provenance_size, size_ratio: (?P<prov_size>[\\d.]+) (?P<size_ratio>[\\d.]+)\\n'\n",
    "            r'time: (?P<time>[\\d.]+)\\n'\n",
    "            r'tokens: (?P<tokens>[\\d.]+) [\\d.]+',\n",
    "            re.MULTILINE\n",
    "        )\n",
    "        for match in pattern.finditer(raw_data):\n",
    "            name = match.group('strategy') or f\"unknown_strategy_{len(all_entries)}\"\n",
    "            all_entries.append({\n",
    "                'Dataset': dataset_name,\n",
    "                'Strategy': name.replace('_sufficient_', '_'),\n",
    "                'Provenance Size': float(match.group('prov_size')),\n",
    "                'Size Ratio': float(match.group('size_ratio')),\n",
    "                'Time (s)': float(match.group('time')),\n",
    "                'Tokens Used': float(match.group('tokens'))\n",
    "            })\n",
    "    return pd.DataFrame(all_entries)\n",
    "\n",
    "# 👇 Visualization\n",
    "df = parse_multiple_datasets(dataset_dict)\n",
    "df_long = df.melt(id_vars=[\"Dataset\", \"Strategy\"], var_name=\"Metric\", value_name=\"Value\")\n",
    "\n",
    "fig = px.bar(\n",
    "    df_long,\n",
    "    x=\"Strategy\",\n",
    "    y=\"Value\",\n",
    "    color=\"Metric\",\n",
    "    facet_col=\"Dataset\",\n",
    "    barmode=\"group\",\n",
    "    height=800,\n",
    "    title=\"LLM Provenance Strategy Comparison Across Datasets\"\n",
    ")\n",
    "\n",
    "fig.update_layout(\n",
    "    title_font_size=20,\n",
    "    xaxis_title=\"Strategy Variant\",\n",
    "    yaxis_title=\"Metric Value\",\n",
    "    font=dict(size=13),\n",
    "    template=\"plotly_white\",\n",
    "    legend_title=\"Metric\"\n",
    ")\n",
    "fig.update_xaxes(tickangle=45)\n",
    "fig.show()\n"
   ]
  },
  {
   "cell_type": "code",
   "execution_count": 8,
   "metadata": {},
   "outputs": [
    {
     "name": "stdout",
     "output_type": "stream",
     "text": [
      "\u001b[33mDEPRECATION: Loading egg at /Users/yashjain/.pyenv/versions/3.11.0/lib/python3.11/site-packages/bloxnet-1.0.0-py3.11.egg is deprecated. pip 24.3 will enforce this behaviour change. A possible replacement is to use pip for package installation. Discussion can be found at https://github.com/pypa/pip/issues/12330\u001b[0m\u001b[33m\n",
      "\u001b[0m\u001b[33mDEPRECATION: Loading egg at /Users/yashjain/.pyenv/versions/3.11.0/lib/python3.11/site-packages/logging-0.4.9.6-py3.11.egg is deprecated. pip 24.3 will enforce this behaviour change. A possible replacement is to use pip for package installation. Discussion can be found at https://github.com/pypa/pip/issues/12330\u001b[0m\u001b[33m\n",
      "\u001b[0mRequirement already satisfied: ace_tools in /Users/yashjain/.pyenv/versions/3.11.0/lib/python3.11/site-packages (0.0)\n",
      "\n",
      "\u001b[1m[\u001b[0m\u001b[34;49mnotice\u001b[0m\u001b[1;39;49m]\u001b[0m\u001b[39;49m A new release of pip is available: \u001b[0m\u001b[31;49m24.2\u001b[0m\u001b[39;49m -> \u001b[0m\u001b[32;49m25.0.1\u001b[0m\n",
      "\u001b[1m[\u001b[0m\u001b[34;49mnotice\u001b[0m\u001b[1;39;49m]\u001b[0m\u001b[39;49m To update, run: \u001b[0m\u001b[32;49mpip install --upgrade pip\u001b[0m\n"
     ]
    }
   ],
   "source": [
    "!pip3 install ace_tools"
   ]
  },
  {
   "cell_type": "code",
   "execution_count": 17,
   "metadata": {},
   "outputs": [
    {
     "name": "stdout",
     "output_type": "stream",
     "text": [
      "Best Strategy per Metric per Dataset:\n"
     ]
    },
    {
     "data": {
      "text/html": [
       "<div>\n",
       "<style scoped>\n",
       "    .dataframe tbody tr th:only-of-type {\n",
       "        vertical-align: middle;\n",
       "    }\n",
       "\n",
       "    .dataframe tbody tr th {\n",
       "        vertical-align: top;\n",
       "    }\n",
       "\n",
       "    .dataframe thead th {\n",
       "        text-align: right;\n",
       "    }\n",
       "</style>\n",
       "<table border=\"1\" class=\"dataframe\">\n",
       "  <thead>\n",
       "    <tr style=\"text-align: right;\">\n",
       "      <th></th>\n",
       "      <th>Dataset</th>\n",
       "      <th>Provenance Size</th>\n",
       "      <th>Size Ratio</th>\n",
       "      <th>Time (s)</th>\n",
       "      <th>Tokens Used</th>\n",
       "    </tr>\n",
       "  </thead>\n",
       "  <tbody>\n",
       "    <tr>\n",
       "      <th>0</th>\n",
       "      <td>paper</td>\n",
       "      <td>divide_and_conquer_exponential_greedy (103.61)</td>\n",
       "      <td>divide_and_conquer_exponential_greedy (0.03)</td>\n",
       "      <td>embedding_bottem_up_null (2.66)</td>\n",
       "      <td>embedding_bottem_up_null (1861.82)</td>\n",
       "    </tr>\n",
       "    <tr>\n",
       "      <th>1</th>\n",
       "      <td>nl_dev</td>\n",
       "      <td>embedding_bottem_up_exponential_greedy (157.81)</td>\n",
       "      <td>embedding_bottem_up_exponential_greedy (0.04)</td>\n",
       "      <td>embedding_bottem_up_null (2.49)</td>\n",
       "      <td>unknown_strategy_13 (1621.22)</td>\n",
       "    </tr>\n",
       "    <tr>\n",
       "      <th>2</th>\n",
       "      <td>hotpotQA</td>\n",
       "      <td>unknown_strategy_29 (81.90)</td>\n",
       "      <td>unknown_strategy_29 (0.07)</td>\n",
       "      <td>unknown_strategy_28 (1.42)</td>\n",
       "      <td>unknown_strategy_28 (352.70)</td>\n",
       "    </tr>\n",
       "  </tbody>\n",
       "</table>\n",
       "</div>"
      ],
      "text/plain": [
       "    Dataset                                  Provenance Size  \\\n",
       "0     paper   divide_and_conquer_exponential_greedy (103.61)   \n",
       "1    nl_dev  embedding_bottem_up_exponential_greedy (157.81)   \n",
       "2  hotpotQA                      unknown_strategy_29 (81.90)   \n",
       "\n",
       "                                      Size Ratio  \\\n",
       "0   divide_and_conquer_exponential_greedy (0.03)   \n",
       "1  embedding_bottem_up_exponential_greedy (0.04)   \n",
       "2                     unknown_strategy_29 (0.07)   \n",
       "\n",
       "                          Time (s)                         Tokens Used  \n",
       "0  embedding_bottem_up_null (2.66)  embedding_bottem_up_null (1861.82)  \n",
       "1  embedding_bottem_up_null (2.49)       unknown_strategy_13 (1621.22)  \n",
       "2       unknown_strategy_28 (1.42)        unknown_strategy_28 (352.70)  "
      ]
     },
     "metadata": {},
     "output_type": "display_data"
    }
   ],
   "source": [
    "# Create a summary table where each row is a dataset\n",
    "# and each column is the metric, with the best strategy and its value\n",
    "metrics = ['Provenance Size', 'Size Ratio', 'Time (s)', 'Tokens Used']\n",
    "summary_rows = []\n",
    "\n",
    "for dataset in df['Dataset'].unique():\n",
    "    row = {\"Dataset\": dataset}\n",
    "    df_subset = df[df['Dataset'] == dataset]\n",
    "    for metric in metrics:\n",
    "        best_row = df_subset.loc[df_subset[metric].idxmin()]\n",
    "        row[metric] = f\"{best_row['Strategy']} ({best_row[metric]:.2f})\"\n",
    "    summary_rows.append(row)\n",
    "\n",
    "summary_df = pd.DataFrame(summary_rows)\n",
    "\n",
    "# Display the dataframe using pandas' built-in display method\n",
    "print(\"Best Strategy per Metric per Dataset:\")\n",
    "display(summary_df)"
   ]
  },
  {
   "cell_type": "code",
   "execution_count": 23,
   "metadata": {},
   "outputs": [
    {
     "name": "stdout",
     "output_type": "stream",
     "text": [
      "Best Provenance Strategy by Dataset and Metric:\n"
     ]
    },
    {
     "data": {
      "text/html": [
       "<div>\n",
       "<style scoped>\n",
       "    .dataframe tbody tr th:only-of-type {\n",
       "        vertical-align: middle;\n",
       "    }\n",
       "\n",
       "    .dataframe tbody tr th {\n",
       "        vertical-align: top;\n",
       "    }\n",
       "\n",
       "    .dataframe thead th {\n",
       "        text-align: right;\n",
       "    }\n",
       "</style>\n",
       "<table border=\"1\" class=\"dataframe\">\n",
       "  <thead>\n",
       "    <tr style=\"text-align: right;\">\n",
       "      <th></th>\n",
       "      <th>Provenance Size</th>\n",
       "      <th>Size Ratio</th>\n",
       "      <th>Time (s)</th>\n",
       "      <th>Tokens Used</th>\n",
       "    </tr>\n",
       "  </thead>\n",
       "  <tbody>\n",
       "    <tr>\n",
       "      <th>Paper</th>\n",
       "      <td>divide_and_conquer/sequential_greedy\\n(112.9)</td>\n",
       "      <td>divide_and_conquer/sequential_greedy\\n(0.028)</td>\n",
       "      <td>embedding/bottem_up_null\\n(2.66s)</td>\n",
       "      <td>embedding/bottem_up_null\\n(1861.8)</td>\n",
       "    </tr>\n",
       "    <tr>\n",
       "      <th>NL Dev</th>\n",
       "      <td>embedding/bottem_up_sequential_greedy\\n(164.9)</td>\n",
       "      <td>embedding/bottem_up_sequential_greedy\\n(0.040)</td>\n",
       "      <td>LLM_score/bottem_up_null\\n(2.54s)</td>\n",
       "      <td>LLM_score/bottem_up_null\\n(1621.2)</td>\n",
       "    </tr>\n",
       "    <tr>\n",
       "      <th>HotpotQA</th>\n",
       "      <td>embedding/bottem_up_sequential_greedy\\n(88.6)</td>\n",
       "      <td>embedding/bottem_up_sequential_greedy\\n(0.079)</td>\n",
       "      <td>LLM_score/bottem_up_null\\n(1.42s)</td>\n",
       "      <td>LLM_score/bottem_up_null\\n(352.7)</td>\n",
       "    </tr>\n",
       "  </tbody>\n",
       "</table>\n",
       "</div>"
      ],
      "text/plain": [
       "                                         Provenance Size                                      Size Ratio                           Time (s)                         Tokens Used\n",
       "Paper      divide_and_conquer/sequential_greedy\\n(112.9)   divide_and_conquer/sequential_greedy\\n(0.028)  embedding/bottem_up_null\\n(2.66s)  embedding/bottem_up_null\\n(1861.8)\n",
       "NL Dev    embedding/bottem_up_sequential_greedy\\n(164.9)  embedding/bottem_up_sequential_greedy\\n(0.040)  LLM_score/bottem_up_null\\n(2.54s)  LLM_score/bottem_up_null\\n(1621.2)\n",
       "HotpotQA   embedding/bottem_up_sequential_greedy\\n(88.6)  embedding/bottem_up_sequential_greedy\\n(0.079)  LLM_score/bottem_up_null\\n(1.42s)   LLM_score/bottem_up_null\\n(352.7)"
      ]
     },
     "execution_count": 23,
     "metadata": {},
     "output_type": "execute_result"
    },
    {
     "data": {
      "text/plain": [
       "<Figure size 1800x1000 with 0 Axes>"
      ]
     },
     "metadata": {},
     "output_type": "display_data"
    },
    {
     "data": {
      "image/png": "[encoded data removed]",
      "text/plain": [
       "<Figure size 1800x1400 with 4 Axes>"
      ]
     },
     "metadata": {},
     "output_type": "display_data"
    },
    {
     "data": {
      "image/png": "[encoded data removed]",
      "text/plain": [
       "<Figure size 1200x600 with 1 Axes>"
      ]
     },
     "metadata": {},
     "output_type": "display_data"
    }
   ],
   "source": [
    "import pandas as pd\n",
    "import matplotlib.pyplot as plt\n",
    "import seaborn as sns\n",
    "import numpy as np\n",
    "from matplotlib.colors import LinearSegmentedColormap\n",
    "\n",
    "# Parse the raw data more robustly\n",
    "def parse_dataset_results(text):\n",
    "    lines = text.strip().split('\\n')\n",
    "    results = []\n",
    "    \n",
    "    i = 0\n",
    "    while i < len(lines):\n",
    "        if i + 3 >= len(lines):\n",
    "            break\n",
    "            \n",
    "        # Parse strategy name\n",
    "        strategy = lines[i].strip()\n",
    "        \n",
    "        # Parse provenance size and size ratio\n",
    "        prov_line = lines[i+1].strip()\n",
    "        if \"provenance_size, size_ratio:\" in prov_line:\n",
    "            prov_parts = prov_line.replace(\"provenance_size, size_ratio:\", \"\").strip().split()\n",
    "            prov_size = float(prov_parts[0])\n",
    "            size_ratio = float(prov_parts[1])\n",
    "        \n",
    "        # Parse time\n",
    "        time_line = lines[i+2].strip()\n",
    "        if \"time:\" in time_line:\n",
    "            time = float(time_line.replace(\"time:\", \"\").strip())\n",
    "        \n",
    "        # Parse tokens\n",
    "        tokens_line = lines[i+3].strip()\n",
    "        if \"tokens:\" in tokens_line:\n",
    "            tokens_parts = tokens_line.replace(\"tokens:\", \"\").strip().split()\n",
    "            tokens_used = float(tokens_parts[0])\n",
    "            tokens_per_example = float(tokens_parts[1]) if len(tokens_parts) > 1 else None\n",
    "        \n",
    "        results.append({\n",
    "            'Strategy': strategy,\n",
    "            'Provenance Size': prov_size,\n",
    "            'Size Ratio': size_ratio,\n",
    "            'Time (s)': time,\n",
    "            'Tokens Used': tokens_used,\n",
    "            'Tokens Per Example': tokens_per_example\n",
    "        })\n",
    "        \n",
    "        i += 4\n",
    "    \n",
    "    return pd.DataFrame(results)\n",
    "\n",
    "# Process the datasets\n",
    "dataset_dict = eval(\"\"\"\n",
    "{\n",
    "    \"paper\": '''LLM_score_sufficient_bottem_up_sequential_greedy\n",
    "provenance_size, size_ratio: 141.4836956521739 0.03236416543346992\n",
    "time: 15.403573899165444\n",
    "tokens: 11230.491847826086 240.77173913043478\n",
    "\n",
    "LLM_score_sufficient_top_down_null\n",
    "provenance_size, size_ratio: 1008.9352750809062 0.19638298332818555\n",
    "time: 3.7807594086360004\n",
    "tokens: 4105.132686084143 39.07119741100323\n",
    "\n",
    "LLM_score_sufficient_top_down_exponential_greedy\n",
    "provenance_size, size_ratio: 135.15359477124184 0.03201665045453362\n",
    "time: 15.601160357980167\n",
    "tokens: 12493.898692810457 238.62418300653596\n",
    "\n",
    "LLM_score_sufficient_top_down_sequential_greedy\n",
    "provenance_size, size_ratio: 123.76450511945393 0.03271914226764511\n",
    "time: 16.075270874101555\n",
    "tokens: 13275.040955631399 247.7064846416382\n",
    "\n",
    "embedding_sufficient_bottem_up_null\n",
    "provenance_size, size_ratio: 484.2989417989418 0.10030732776568882\n",
    "time: 2.662069279680807\n",
    "tokens: 1861.8201058201057 35.51587301587302\n",
    "\n",
    "embedding_sufficient_bottem_up_exponential_greedy\n",
    "provenance_size, size_ratio: 149.13110539845758 0.03735410099278428\n",
    "time: 20.450401596054625\n",
    "tokens: 15988.25706940874 365.6452442159383\n",
    "\n",
    "embedding_sufficient_bottem_up_sequential_greedy\n",
    "provenance_size, size_ratio: 133.4836956521739 0.031152806141233034\n",
    "time: 12.973069652267124\n",
    "tokens: 7993.73097826087 218.6820652173913\n",
    "\n",
    "embedding_sufficient_top_down_null\n",
    "provenance_size, size_ratio: 1052.974358974359 0.20860218686307547\n",
    "time: 3.188128208502745\n",
    "tokens: 4339.974358974359 44.31089743589744\n",
    "\n",
    "embedding_sufficient_top_down_exponential_greedy\n",
    "provenance_size, size_ratio: 145.89240506329114 0.035833471976972765\n",
    "time: 21.20234606311291\n",
    "tokens: 19912.949367088608 351.6898734177215\n",
    "\n",
    "embedding_sufficient_top_down_sequential_greedy\n",
    "provenance_size, size_ratio: 193.2826086956522 0.0465458732765233\n",
    "time: 23.929016879626683\n",
    "tokens: 28104.341614906833 416.67391304347825\n",
    "\n",
    "divide_and_conquer_sufficient_null\n",
    "provenance_size, size_ratio: 836.2079510703364 0.16396141904048067\n",
    "time: 3.9249465392634773\n",
    "tokens: 6193.269113149847 53.41896024464832\n",
    "\n",
    "divide_and_conquer_sufficient_exponential_greedy\n",
    "provenance_size, size_ratio: 103.60725075528701 0.02607476789317708\n",
    "time: 12.249118763154367\n",
    "tokens: 12919.740181268882 195.19335347432025\n",
    "\n",
    "divide_and_conquer_sufficient_sequential_greedy\n",
    "provenance_size, size_ratio: 112.93167701863354 0.02778724190951269\n",
    "time: 13.669054200190194\n",
    "tokens: 13730.695652173914 224.00310559006212''',\n",
    "    \"nl_dev\": '''LLM_score_sufficient_bottem_up_null\n",
    "provenance_size, size_ratio: 967.1205211726384 0.14779883320405557\n",
    "time: 2.5396051298135265\n",
    "tokens: 1621.2247557003257 22.697068403908794\n",
    "\n",
    "LLM_score_sufficient_bottem_up_exponential_greedy\n",
    "provenance_size, size_ratio: 217.751677852349 0.04642450488522705\n",
    "time: 13.1322757165704\n",
    "tokens: 12452.808724832215 201.46644295302013\n",
    "\n",
    "LLM_score_sufficient_bottem_up_sequential_greedy\n",
    "provenance_size, size_ratio: 232.0242214532872 0.04960267933679339\n",
    "time: 17.215952774232647\n",
    "tokens: 20399.553633217995 255.03114186851212\n",
    "\n",
    "LLM_score_sufficient_top_down_null\n",
    "provenance_size, size_ratio: 1875.1672727272728 0.23741609601230595\n",
    "time: 3.790302284414118\n",
    "tokens: 6944.058181818182 38.64363636363636\n",
    "\n",
    "LLM_score_sufficient_top_down_exponential_greedy\n",
    "provenance_size, size_ratio: 241.01908396946564 0.0538201072155819\n",
    "time: 15.282924649369626\n",
    "tokens: 26916.858778625956 211.1908396946565\n",
    "\n",
    "LLM_score_sufficient_top_down_sequential_greedy\n",
    "provenance_size, size_ratio: 240.08139534883722 0.055587977884532486\n",
    "time: 18.336572660032168\n",
    "tokens: 26844.267441860466 273.5426356589147\n",
    "\n",
    "embedding_sufficient_bottem_up_null\n",
    "provenance_size, size_ratio: 603.4890965732087 0.12069324026862863\n",
    "time: 2.491720745496661\n",
    "tokens: 1960.7383177570093 41.14018691588785\n",
    "\n",
    "embedding_sufficient_bottem_up_exponential_greedy\n",
    "provenance_size, size_ratio: 157.80968858131487 0.035753862059879224\n",
    "time: 9.418145607087027\n",
    "tokens: 6592.294117647059 149.33217993079586\n",
    "\n",
    "embedding_sufficient_bottem_up_sequential_greedy\n",
    "provenance_size, size_ratio: 164.91034482758621 0.0396195417047691\n",
    "time: 8.88267331945485\n",
    "tokens: 6249.5 148.7896551724138\n",
    "\n",
    "embedding_sufficient_top_down_null\n",
    "provenance_size, size_ratio: 1372.530909090909 0.21111702214268502\n",
    "time: 3.3227526239915326\n",
    "tokens: 7969.403636363636 46.24727272727273\n",
    "\n",
    "embedding_sufficient_top_down_exponential_greedy\n",
    "provenance_size, size_ratio: 190.24603174603175 0.04487104172063085\n",
    "time: 13.110886604066879\n",
    "tokens: 19660.20238095238 199.22222222222223\n",
    "\n",
    "embedding_sufficient_top_down_sequential_greedy\n",
    "provenance_size, size_ratio: 197.624 0.044666074479508704\n",
    "time: 12.195801460266113\n",
    "tokens: 19036.744 190.88\n",
    "\n",
    "divide_and_conquer_sufficient_null\n",
    "provenance_size, size_ratio: 1109.125 0.16678280914702576\n",
    "time: 3.7009963018553598\n",
    "tokens: 8533.992857142857 58.642857142857146\n",
    "\n",
    "divide_and_conquer_sufficient_exponential_greedy\n",
    "provenance_size, size_ratio: 182.7509433962264 0.044502473875489786\n",
    "time: 8.988645762317585\n",
    "tokens: 14619.158490566038 138.81509433962265\n",
    "\n",
    "divide_and_conquer_sufficient_sequential_greedy\n",
    "provenance_size, size_ratio: 204.14126394052045 0.046169678330535015\n",
    "time: 12.470636262326435\n",
    "tokens: 20372.65055762082 209.38661710037175''',\n",
    "    \"hotpotQA\": '''LLM_score_sufficient_bottem_up_null\n",
    "provenance_size, size_ratio: 265.16083916083915 0.23090560392891496\n",
    "time: 1.4153014421463013\n",
    "tokens: 352.6993006993007 4.856643356643357\n",
    "\n",
    "LLM_score_sufficient_bottem_up_exponential_greedy\n",
    "provenance_size, size_ratio: 81.89626556016597 0.07285952510178059\n",
    "time: 4.631294662032385\n",
    "tokens: 1927.1244813278008 28.116182572614107\n",
    "\n",
    "LLM_score_sufficient_bottem_up_sequential_greedy\n",
    "provenance_size, size_ratio: 86.53526970954357 0.076962214372749\n",
    "time: 4.7644908329263265\n",
    "tokens: 1882.2946058091286 31.477178423236513\n",
    "\n",
    "LLM_score_sufficient_top_down_null\n",
    "provenance_size, size_ratio: 348.31481481481484 0.29476059449781594\n",
    "time: 1.7444683233896892\n",
    "tokens: 922.6407407407407 7.92962962962963\n",
    "\n",
    "LLM_score_sufficient_top_down_exponential_greedy\n",
    "provenance_size, size_ratio: 94.25806451612904 0.08315657205944613\n",
    "time: 5.503831173143079\n",
    "tokens: 3187.701612903226 36.733870967741936\n",
    "\n",
    "LLM_score_sufficient_top_down_sequential_greedy\n",
    "provenance_size, size_ratio: 101.4089068825911 0.09059141755755763\n",
    "time: 5.901728580837791\n",
    "tokens: 3693.1457489878544 40.659919028340084\n",
    "\n",
    "embedding_sufficient_bottem_up_null\n",
    "provenance_size, size_ratio: 265.94871794871796 0.234010610729305\n",
    "time: 3.5013677165621804\n",
    "tokens: 419.8131868131868 5.117216117216117\n",
    "\n",
    "embedding_sufficient_bottem_up_exponential_greedy\n",
    "provenance_size, size_ratio: 86.69787234042553 0.0770392222131824\n",
    "time: 7.152930596534242\n",
    "tokens: 2006.2212765957447 28.106382978723403\n",
    "\n",
    "embedding_sufficient_bottem_up_sequential_greedy\n",
    "provenance_size, size_ratio: 88.62083333333334 0.07874768442584107\n",
    "time: 7.339660507440567\n",
    "tokens: 2221.4958333333334 32.42916666666667\n",
    "\n",
    "embedding_sufficient_top_down_null\n",
    "provenance_size, size_ratio: 355.60215053763443 0.3054232025661478\n",
    "time: 4.144934187653244\n",
    "tokens: 1179.200716845878 10.290322580645162\n",
    "\n",
    "embedding_sufficient_top_down_exponential_greedy\n",
    "provenance_size, size_ratio: 89.60833333333333 0.08170875932292977\n",
    "time: 8.191947561502456\n",
    "tokens: 3832.225 40.67916666666667\n",
    "\n",
    "embedding_sufficient_top_down_sequential_greedy\n",
    "provenance_size, size_ratio: 95.56118143459915 0.08674857440720533\n",
    "time: 8.145133190517184\n",
    "tokens: 4082.590717299578 43.358649789029535\n",
    "\n",
    "divide_and_conquer_sufficient_null\n",
    "provenance_size, size_ratio: 259.76223776223776 0.22127256835741554\n",
    "time: 2.062281051715771\n",
    "tokens: 1637.2622377622379 13.695804195804195\n",
    "\n",
    "divide_and_conquer_sufficient_exponential_greedy\n",
    "provenance_size, size_ratio: 82.42424242424242 0.07434038359099068\n",
    "time: 4.988634642068442\n",
    "tokens: 3131.307359307359 32.58008658008658\n",
    "\n",
    "divide_and_conquer_sufficient_sequential_greedy\n",
    "provenance_size, size_ratio: 85.64963503649635 0.07377602523730005\n",
    "time: 5.413685370535746\n",
    "tokens: 3451.912408759124 34.97080291970803'''\n",
    "}\n",
    "\"\"\")\n",
    "\n",
    "# Process each dataset and add 'Dataset' column\n",
    "paper_df = parse_dataset_results(dataset_dict[\"paper\"])\n",
    "paper_df['Dataset'] = 'Paper'\n",
    "\n",
    "nl_dev_df = parse_dataset_results(dataset_dict[\"nl_dev\"])\n",
    "nl_dev_df['Dataset'] = 'NL Dev'\n",
    "\n",
    "hotpotqa_df = parse_dataset_results(dataset_dict[\"hotpotQA\"])\n",
    "hotpotqa_df['Dataset'] = 'HotpotQA'\n",
    "\n",
    "# Combine all datasets\n",
    "df = pd.concat([paper_df, nl_dev_df, hotpotqa_df])\n",
    "\n",
    "# Extract approach and method from the strategy name\n",
    "df['Approach'] = df['Strategy'].apply(lambda x: x.split('_sufficient_')[0])\n",
    "def extract_parts(strategy):\n",
    "    if '_sufficient_' in strategy:\n",
    "        approach, method_part = strategy.split('_sufficient_', 1)\n",
    "        method = method_part.replace('_', ' ')  # Convert underscores to spaces for readability\n",
    "    else:\n",
    "        approach = strategy\n",
    "        method = 'unknown'\n",
    "    \n",
    "    # Clean up approach names\n",
    "    approach = approach.replace('_', ' ').title()\n",
    "    return approach, method\n",
    "\n",
    "# Apply the extraction\n",
    "df[['Approach', 'Method']] = pd.DataFrame(\n",
    "    df['Strategy'].apply(extract_parts).tolist(), \n",
    "    index=df.index\n",
    ")\n",
    "\n",
    "# Create a nicer visualization\n",
    "plt.figure(figsize=(18, 10))\n",
    "sns.set_style(\"whitegrid\")\n",
    "sns.set_palette(\"viridis\")\n",
    "\n",
    "# Setup the plotting configuration\n",
    "metrics = ['Provenance Size', 'Size Ratio', 'Time (s)', 'Tokens Used']\n",
    "datasets = ['Paper', 'NL Dev', 'HotpotQA']\n",
    "methods = df['Method'].unique()\n",
    "approaches = df['Approach'].unique()\n",
    "\n",
    "# Create a 2x2 subplot\n",
    "fig, axes = plt.subplots(2, 2, figsize=(18, 14))\n",
    "axes = axes.flatten()\n",
    "\n",
    "# Custom color palette\n",
    "custom_colors = [\"#4C72B0\", \"#55A868\", \"#C44E52\", \"#8172B3\", \"#CCB974\", \"#64B5CD\"]\n",
    "cmap = LinearSegmentedColormap.from_list(\"custom\", custom_colors, N=len(approaches))\n",
    "\n",
    "# Plot each metric\n",
    "for i, metric in enumerate(metrics):\n",
    "    ax = axes[i]\n",
    "    \n",
    "    # Get positions for bars\n",
    "    n_datasets = len(datasets)\n",
    "    n_methods = len(methods)\n",
    "    n_approaches = len(approaches)\n",
    "    \n",
    "    bar_width = 0.8 / n_approaches\n",
    "    \n",
    "    # For each dataset-method combination\n",
    "    for d_idx, dataset in enumerate(datasets):\n",
    "        for m_idx, method in enumerate(methods):\n",
    "            x_pos = d_idx * (n_methods + 0.5) + m_idx\n",
    "            \n",
    "            # Plot bars for each approach\n",
    "            for a_idx, approach in enumerate(approaches):\n",
    "                df_subset = df[(df['Dataset'] == dataset) & \n",
    "                               (df['Method'] == method) & \n",
    "                               (df['Approach'] == approach)]\n",
    "                \n",
    "                if not df_subset.empty:\n",
    "                    value = df_subset[metric].values[0]\n",
    "                    ax.bar(x_pos + (a_idx - n_approaches/2 + 0.5) * bar_width, \n",
    "                           value, \n",
    "                           width=bar_width, \n",
    "                           color=cmap(a_idx / len(approaches)),\n",
    "                           label=approach if d_idx == 0 and m_idx == m_idx == 0 else \"\")\n",
    "    \n",
    "    # Set x-axis labels\n",
    "    tick_positions = []\n",
    "    tick_labels = []\n",
    "    for d_idx, dataset in enumerate(datasets):\n",
    "        for m_idx, method in enumerate(methods):\n",
    "            x_pos = d_idx * (n_methods + 0.5) + m_idx\n",
    "            tick_positions.append(x_pos)\n",
    "            tick_labels.append(f\"{method}\\n({dataset})\")\n",
    "    \n",
    "    ax.set_xticks(tick_positions)\n",
    "    ax.set_xticklabels(tick_labels, rotation=45, ha='right')\n",
    "    \n",
    "    # Add title and labels\n",
    "    ax.set_title(f\"{metric} by Strategy and Dataset\", fontsize=14, fontweight='bold')\n",
    "    ax.set_ylabel(metric, fontsize=12)\n",
    "    \n",
    "    # Remove duplicate legend entries\n",
    "    handles, labels = ax.get_legend_handles_labels()\n",
    "    by_label = dict(zip(labels, handles))\n",
    "    \n",
    "    if i == 0:  # Only add legend to first subplot\n",
    "        ax.legend(by_label.values(), by_label.keys(), \n",
    "                  title=\"Approach\", \n",
    "                  loc='upper right',\n",
    "                  fontsize=10)\n",
    "\n",
    "# Create a dataframe summary of the best strategy for each dataset and metric\n",
    "summary_table = pd.DataFrame(columns=['Dataset', 'Metric', 'Best Strategy', 'Value'])\n",
    "\n",
    "for dataset in datasets:\n",
    "    for metric in metrics:\n",
    "        dataset_df = df[df['Dataset'] == dataset]\n",
    "        if metric in ['Provenance Size', 'Size Ratio', 'Time (s)', 'Tokens Used']:\n",
    "            best_row = dataset_df.loc[dataset_df[metric].idxmin()]\n",
    "        else:\n",
    "            best_row = dataset_df.loc[dataset_df[metric].idxmax()]\n",
    "        \n",
    "        summary_table = pd.concat([summary_table, pd.DataFrame({\n",
    "            'Dataset': [dataset],\n",
    "            'Metric': [metric],\n",
    "            'Best Strategy': [best_row['Strategy']],\n",
    "            'Value': [f\"{best_row[metric]:.2f}\"]\n",
    "        })])\n",
    "\n",
    "# Create a pivot table for better visualization\n",
    "summary_pivot = summary_table.pivot(index='Dataset', columns='Metric', values=['Best Strategy', 'Value'])\n",
    "summary_pivot.columns = [f\"{col[1]} ({col[0]})\" for col in summary_pivot.columns]\n",
    "\n",
    "plt.tight_layout()\n",
    "\n",
    "# Print the summary table nicely formatted\n",
    "pd.set_option('display.max_colwidth', None)\n",
    "pd.set_option('display.width', 1000)\n",
    "\n",
    "# Create a more compact summary DataFrame in a different format\n",
    "compact_summary = pd.DataFrame(index=datasets)\n",
    "\n",
    "for metric in metrics:\n",
    "    values = []\n",
    "    for dataset in datasets:\n",
    "        dataset_df = df[df['Dataset'] == dataset]\n",
    "        best_row = dataset_df.loc[dataset_df[metric].idxmin()]\n",
    "        \n",
    "        # Extract just the method part for readability\n",
    "        strategy_parts = best_row['Strategy'].split('_sufficient_')\n",
    "        approach = strategy_parts[0]\n",
    "        method = strategy_parts[1]\n",
    "        \n",
    "        # Format differently based on metric type\n",
    "        if metric == 'Size Ratio':\n",
    "            value = f\"{best_row[metric]:.3f}\"\n",
    "        elif metric == 'Time (s)':\n",
    "            value = f\"{best_row[metric]:.2f}s\"\n",
    "        else:\n",
    "            value = f\"{best_row[metric]:.1f}\"\n",
    "            \n",
    "        values.append(f\"{approach}/{method}\\n({value})\")\n",
    "    \n",
    "    compact_summary[metric] = values\n",
    "\n",
    "# Create a heatmap of all strategies performance\n",
    "# First restructure data for heatmap visualization\n",
    "heatmap_data = {}\n",
    "for metric in metrics:\n",
    "    heatmap_df = pd.DataFrame(index=df['Strategy'].unique(), columns=datasets)\n",
    "    \n",
    "    for dataset in datasets:\n",
    "        for strategy in df['Strategy'].unique():\n",
    "            strategy_df = df[(df['Dataset'] == dataset) & (df['Strategy'] == strategy)]\n",
    "            if not strategy_df.empty:\n",
    "                heatmap_df.loc[strategy, dataset] = strategy_df[metric].values[0]\n",
    "    \n",
    "    # Normalize values for better visualization\n",
    "    for dataset in datasets:\n",
    "        col_min = heatmap_df[dataset].min()\n",
    "        col_max = heatmap_df[dataset].max()\n",
    "        heatmap_df[dataset] = (heatmap_df[dataset] - col_min) / (col_max - col_min) if col_max > col_min else 0\n",
    "    \n",
    "    heatmap_data[metric] = heatmap_df\n",
    "\n",
    "# Create a beautiful visualization of the compact summary\n",
    "fig, ax = plt.subplots(figsize=(12, 6))\n",
    "ax.axis('tight')\n",
    "ax.axis('off')\n",
    "\n",
    "# Define colors for cells based on metrics\n",
    "colors = []\n",
    "for idx, row in compact_summary.iterrows():\n",
    "    row_colors = []\n",
    "    for metric in metrics:\n",
    "        if 'divide_and_conquer' in row[metric]:\n",
    "            row_colors.append('#C6E2FF')  # Light blue\n",
    "        elif 'embedding' in row[metric]:\n",
    "            row_colors.append('#FFD8B1')  # Light orange\n",
    "        else:\n",
    "            row_colors.append('#D5F5E3')  # Light green\n",
    "    colors.append(row_colors)\n",
    "\n",
    "# Create table\n",
    "table = ax.table(cellText=compact_summary.values, \n",
    "                rowLabels=compact_summary.index,\n",
    "                colLabels=compact_summary.columns,\n",
    "                cellColours=colors,\n",
    "                loc='center',\n",
    "                cellLoc='center')\n",
    "\n",
    "# Style the table\n",
    "table.auto_set_font_size(False)\n",
    "table.set_fontsize(10)\n",
    "table.scale(1.2, 1.8)\n",
    "\n",
    "# Style headers\n",
    "for k, cell in table.get_celld().items():\n",
    "    if k[0] == 0:  # Column headers\n",
    "        cell.set_text_props(weight='bold', color='white')\n",
    "        cell.set_facecolor('#2C3E50')\n",
    "    elif k[1] == -1:  # Row headers\n",
    "        cell.set_text_props(weight='bold')\n",
    "        cell.set_facecolor('#7FB3D5')\n",
    "\n",
    "plt.title('Best Provenance Strategy by Dataset and Metric', fontsize=16, fontweight='bold', pad=20)\n",
    "plt.tight_layout()\n",
    "\n",
    "# Output the visualization\n",
    "plt.savefig('provenance_strategies_comparison.png', dpi=300, bbox_inches='tight')\n",
    "\n",
    "# Formatting for display\n",
    "print(\"Best Provenance Strategy by Dataset and Metric:\")\n",
    "compact_summary"
   ]
  },
  {
   "cell_type": "code",
   "execution_count": 19,
   "metadata": {},
   "outputs": [
    {
     "name": "stdout",
     "output_type": "stream",
     "text": [
      "\u001b[33mDEPRECATION: Loading egg at /Users/yashjain/.pyenv/versions/3.11.0/lib/python3.11/site-packages/bloxnet-1.0.0-py3.11.egg is deprecated. pip 24.3 will enforce this behaviour change. A possible replacement is to use pip for package installation. Discussion can be found at https://github.com/pypa/pip/issues/12330\u001b[0m\u001b[33m\n",
      "\u001b[0m\u001b[33mDEPRECATION: Loading egg at /Users/yashjain/.pyenv/versions/3.11.0/lib/python3.11/site-packages/logging-0.4.9.6-py3.11.egg is deprecated. pip 24.3 will enforce this behaviour change. A possible replacement is to use pip for package installation. Discussion can be found at https://github.com/pypa/pip/issues/12330\u001b[0m\u001b[33m\n",
      "\u001b[0mCollecting seaborn\n",
      "  Using cached seaborn-0.13.2-py3-none-any.whl.metadata (5.4 kB)\n",
      "Requirement already satisfied: numpy!=1.24.0,>=1.20 in /Users/yashjain/.pyenv/versions/3.11.0/lib/python3.11/site-packages (from seaborn) (1.26.0)\n",
      "Requirement already satisfied: pandas>=1.2 in /Users/yashjain/.pyenv/versions/3.11.0/lib/python3.11/site-packages (from seaborn) (2.1.1)\n",
      "Requirement already satisfied: matplotlib!=3.6.1,>=3.4 in /Users/yashjain/.pyenv/versions/3.11.0/lib/python3.11/site-packages (from seaborn) (3.9.1)\n",
      "Requirement already satisfied: contourpy>=1.0.1 in /Users/yashjain/.pyenv/versions/3.11.0/lib/python3.11/site-packages (from matplotlib!=3.6.1,>=3.4->seaborn) (1.2.1)\n",
      "Requirement already satisfied: cycler>=0.10 in /Users/yashjain/.pyenv/versions/3.11.0/lib/python3.11/site-packages (from matplotlib!=3.6.1,>=3.4->seaborn) (0.12.1)\n",
      "Requirement already satisfied: fonttools>=4.22.0 in /Users/yashjain/.pyenv/versions/3.11.0/lib/python3.11/site-packages (from matplotlib!=3.6.1,>=3.4->seaborn) (4.53.1)\n",
      "Requirement already satisfied: kiwisolver>=1.3.1 in /Users/yashjain/.pyenv/versions/3.11.0/lib/python3.11/site-packages (from matplotlib!=3.6.1,>=3.4->seaborn) (1.4.5)\n",
      "Requirement already satisfied: packaging>=20.0 in /Users/yashjain/.pyenv/versions/3.11.0/lib/python3.11/site-packages (from matplotlib!=3.6.1,>=3.4->seaborn) (24.2)\n",
      "Requirement already satisfied: pillow>=8 in /Users/yashjain/.pyenv/versions/3.11.0/lib/python3.11/site-packages (from matplotlib!=3.6.1,>=3.4->seaborn) (10.0.1)\n",
      "Requirement already satisfied: pyparsing>=2.3.1 in /Users/yashjain/.pyenv/versions/3.11.0/lib/python3.11/site-packages (from matplotlib!=3.6.1,>=3.4->seaborn) (3.1.2)\n",
      "Requirement already satisfied: python-dateutil>=2.7 in /Users/yashjain/.pyenv/versions/3.11.0/lib/python3.11/site-packages (from matplotlib!=3.6.1,>=3.4->seaborn) (2.9.0.post0)\n",
      "Requirement already satisfied: pytz>=2020.1 in /Users/yashjain/.pyenv/versions/3.11.0/lib/python3.11/site-packages (from pandas>=1.2->seaborn) (2025.1)\n",
      "Requirement already satisfied: tzdata>=2022.1 in /Users/yashjain/.pyenv/versions/3.11.0/lib/python3.11/site-packages (from pandas>=1.2->seaborn) (2025.1)\n",
      "Requirement already satisfied: six>=1.5 in /Users/yashjain/.pyenv/versions/3.11.0/lib/python3.11/site-packages (from python-dateutil>=2.7->matplotlib!=3.6.1,>=3.4->seaborn) (1.17.0)\n",
      "Using cached seaborn-0.13.2-py3-none-any.whl (294 kB)\n",
      "Installing collected packages: seaborn\n",
      "Successfully installed seaborn-0.13.2\n",
      "\n",
      "\u001b[1m[\u001b[0m\u001b[34;49mnotice\u001b[0m\u001b[1;39;49m]\u001b[0m\u001b[39;49m A new release of pip is available: \u001b[0m\u001b[31;49m24.2\u001b[0m\u001b[39;49m -> \u001b[0m\u001b[32;49m25.0.1\u001b[0m\n",
      "\u001b[1m[\u001b[0m\u001b[34;49mnotice\u001b[0m\u001b[1;39;49m]\u001b[0m\u001b[39;49m To update, run: \u001b[0m\u001b[32;49mpip install --upgrade pip\u001b[0m\n"
     ]
    }
   ],
   "source": [
    "!pip install seaborn"
   ]
  },
  {
   "cell_type": "code",
   "execution_count": null,
   "metadata": {},
   "outputs": [],
   "source": []
  }
 ],
 "metadata": {
  "kernelspec": {
   "display_name": "Python 3",
   "language": "python",
   "name": "python3"
  },
  "language_info": {
   "codemirror_mode": {
    "name": "ipython",
    "version": 3
   },
   "file_extension": ".py",
   "mimetype": "text/x-python",
   "name": "python",
   "nbconvert_exporter": "python",
   "pygments_lexer": "ipython3",
   "version": "3.11.0"
  }
 },
 "nbformat": 4,
 "nbformat_minor": 2
}

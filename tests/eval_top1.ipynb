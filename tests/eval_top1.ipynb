{
 "cells": [
  {
   "cell_type": "code",
   "execution_count": 60,
   "metadata": {},
   "outputs": [
    {
     "name": "stdout",
     "output_type": "stream",
     "text": [
      "/Users/yiminglin/Documents/Codebase/doc-provenance\n"
     ]
    }
   ],
   "source": [
    "from pathlib import Path\n",
    "import matplotlib.pyplot as plt\n",
    "import matplotlib.ticker as mtick\n",
    "import numpy as np\n",
    "\n",
    "parent_directory = str(Path().resolve().parent)\n",
    "parent_directory\n",
    "\n",
    "import os,sys \n",
    "script_path = os.path.abspath(\"../src\")  # Adjust the path\n",
    "sys.path.append(script_path)\n",
    "print(parent_directory)"
   ]
  },
  {
   "cell_type": "code",
   "execution_count": 87,
   "metadata": {},
   "outputs": [],
   "source": [
    "import json \n",
    "import tiktoken\n",
    "\n",
    "def read_json(path):\n",
    "    if not os.path.exists(path):\n",
    "        print('File not found!', path)\n",
    "        return None\n",
    "    with open(path, \"r\", encoding=\"utf-8\") as file:\n",
    "        data = json.load(file)\n",
    "    return data\n",
    "\n",
    "def count_tokens(text, model=\"gpt-4o-mini\"):\n",
    "    encoder = tiktoken.encoding_for_model(model)  # Get the tokenizer for the specific model\n",
    "    tokens = encoder.encode(text)  # Encode text into tokens\n",
    "    return len(tokens)\n",
    "\n",
    "def write_json_to_file(filename, data):\n",
    "    with open(filename, \"w\") as f:\n",
    "        json.dump(data, f, indent=4)"
   ]
  },
  {
   "cell_type": "code",
   "execution_count": 78,
   "metadata": {},
   "outputs": [],
   "source": [
    "def get_results(data_path, result_folder_path, sufficient_provenance_strategy, minimal_provenance_strategy, dataset):\n",
    "    objects = read_json(data_path)\n",
    "    results = {}\n",
    "    strategy = sufficient_provenance_strategy + '_' + minimal_provenance_strategy\n",
    "    i = 0\n",
    "    for o in objects:\n",
    "        i += 1\n",
    "        if dataset == 'hotpotQA':\n",
    "            title = o['document_name']\n",
    "        else:\n",
    "            title = o['id']\n",
    "        result_path = result_folder_path + str(i) + '_' + str(title) + '_'  + strategy + '.json'\n",
    "        if not os.path.exists(result_path):\n",
    "            # if i <= 500:\n",
    "            #     print('path not exist:', i)\n",
    "            continue\n",
    "        result = read_json(result_path)\n",
    "        if 'tokens' not in result:\n",
    "            # if i <= 500:\n",
    "            #     print('result not exist:', i)\n",
    "            continue\n",
    "        r = {}\n",
    "        #print(i, strategy)\n",
    "        r['document_size'] = result['document_size']\n",
    "        r['provenance_size'] = result['provenance_size']\n",
    "        r['time'] = result['time']\n",
    "        r['tokens'] = result['tokens']\n",
    "        results[i] = r\n",
    "\n",
    "    return results        \n",
    "\n",
    "def get_aggregate_results(sufficient_provenance_strategy_pool, minimal_provenance_strategy_pool, data_path, result_folder_path, dataset): \n",
    "\n",
    "    size_ratios = {}\n",
    "    large_case_ids = {}\n",
    "    medium_case_ids = {}\n",
    "\n",
    "    for sufficient_provenance_strategy in sufficient_provenance_strategy_pool:\n",
    "        for minimal_provenance_strategy in minimal_provenance_strategy_pool:\n",
    "            strategy = sufficient_provenance_strategy + '_' + minimal_provenance_strategy\n",
    "            if minimal_provenance_strategy != 'null':\n",
    "                continue\n",
    "            print(strategy)\n",
    "            results = get_results(data_path, result_folder_path, sufficient_provenance_strategy, minimal_provenance_strategy, dataset)\n",
    "            print(len(results))\n",
    "            avg_provenance_size = 0\n",
    "            avg_size_ratio = 0\n",
    "            avg_time = 0\n",
    "            avg_in_tokens = 0\n",
    "            avg_out_tokens = 0\n",
    "            size_ratio_list = []\n",
    "            large_case_id = []\n",
    "            medium_case_id = []\n",
    "            for rid, result in results.items():\n",
    "                size_ratio = result['provenance_size']/result['document_size']\n",
    "                provenance_size = result['provenance_size']\n",
    "                time = result['time']\n",
    "                in_tokens = result['tokens'][0]\n",
    "                out_tokens = result['tokens'][1] \n",
    "\n",
    "                avg_provenance_size += provenance_size\n",
    "                avg_size_ratio += size_ratio\n",
    "                avg_time += time \n",
    "                avg_in_tokens += in_tokens\n",
    "                avg_out_tokens += out_tokens\n",
    "\n",
    "                if size_ratio > 0.9:\n",
    "                    large_case_id.append(rid)\n",
    "                    #print('large size ratio:', rid)\n",
    "                elif size_ratio < 0.9 and size_ratio > 0.3:\n",
    "                    medium_case_id.append(rid)\n",
    "\n",
    "                size_ratio_list.append(size_ratio)\n",
    "\n",
    "                # print(rid) \n",
    "                # print('document_size, provenance_size:', result['document_size'], result['provenance_size'])\n",
    "                # print('time:', result['time'])\n",
    "                # print('tokens:', result['tokens'])\n",
    "                # break\n",
    "            avg_provenance_size /= len(results)\n",
    "            avg_size_ratio /= len(results)\n",
    "            avg_time /= len(results)\n",
    "            avg_in_tokens /= len(results)\n",
    "            avg_out_tokens /= len(results)\n",
    "            print('provenance_size, size_ratio:', avg_provenance_size, avg_size_ratio)\n",
    "            print('time:', avg_time)\n",
    "            print('tokens:', avg_in_tokens, avg_out_tokens)\n",
    "            print('')\n",
    "            size_ratios[strategy] = size_ratio_list\n",
    "            large_case_ids[strategy] = large_case_id\n",
    "            medium_case_ids[strategy] = medium_case_id\n",
    "    return size_ratios, large_case_ids, medium_case_ids\n",
    "\n",
    "def plot_size_ratio_distribution(sufficient_provenance_strategy_pool, minimal_provenance_strategy_pool, size_ratios):\n",
    "    # Prepare your strategies\n",
    "    plots = []\n",
    "    titles = []\n",
    "\n",
    "    for sufficient_provenance_strategy in sufficient_provenance_strategy_pool:\n",
    "        for minimal_provenance_strategy in minimal_provenance_strategy_pool:\n",
    "            if minimal_provenance_strategy != 'null':\n",
    "                continue\n",
    "            strategy = sufficient_provenance_strategy + '_' + minimal_provenance_strategy\n",
    "            print(strategy)\n",
    "            a = size_ratios[strategy]\n",
    "            plots.append(a)\n",
    "            titles.append(strategy)\n",
    "\n",
    "    # Set up subplots\n",
    "    n = len(plots)\n",
    "    cols = 3  # adjust columns as needed\n",
    "    rows = (n + cols - 1) // cols\n",
    "\n",
    "    fig, axes = plt.subplots(rows, cols, figsize=(5 * cols, 4 * rows))\n",
    "    axes = axes.flatten()\n",
    "\n",
    "    for i, (a, title) in enumerate(zip(plots, titles)):\n",
    "        counts, bins, _ = axes[i].hist(a, bins='auto', edgecolor='black')\n",
    "        total = counts.sum()\n",
    "        percentages = (counts / total) * 100\n",
    "\n",
    "        # Clear and re-plot using percentages\n",
    "        axes[i].cla()\n",
    "        axes[i].bar(bins[:-1], percentages, width=np.diff(bins), align='edge', edgecolor='black')\n",
    "        axes[i].set_title(f'Histogram of {title}')\n",
    "        axes[i].set_xlabel('Value')\n",
    "        axes[i].set_ylabel('Frequency (Percentage)')\n",
    "        axes[i].yaxis.set_major_formatter(mtick.PercentFormatter(xmax=100))\n",
    "\n",
    "    # Hide any extra subplots\n",
    "    for j in range(i + 1, len(axes)):\n",
    "        fig.delaxes(axes[j])\n",
    "\n",
    "    plt.tight_layout()\n",
    "    plt.show()"
   ]
  },
  {
   "cell_type": "code",
   "execution_count": 73,
   "metadata": {},
   "outputs": [
    {
     "name": "stdout",
     "output_type": "stream",
     "text": [
      "LLM_score_sufficient_bottem_up_null\n",
      "provenance_size, size_ratio: 1256.9683544303798 0.16382934813659375\n",
      "time: 3.141283622270898\n",
      "tokens: 4361.2468354430375 33.572784810126585\n",
      "\n",
      "LLM_score_sufficient_top_down_null\n",
      "provenance_size, size_ratio: 1970.0372881355931 0.23223341065795186\n",
      "time: 4.187940395484536\n",
      "tokens: 8291.908474576272 41.13898305084746\n",
      "\n",
      "embedding_sufficient_top_down_null\n",
      "provenance_size, size_ratio: 1425.3830508474575 0.2019846456411138\n",
      "time: 3.613386133161642\n",
      "tokens: 9896.93559322034 56.09152542372881\n",
      "\n",
      "embedding_sufficient_bottem_up_null\n",
      "provenance_size, size_ratio: 776.6276923076923 0.1273558362525617\n",
      "time: 4.967069584039542\n",
      "tokens: 13224.190769230769 127.60615384615384\n",
      "\n",
      "divide_and_conquer_sufficient_null\n",
      "provenance_size, size_ratio: 1176.4755700325734 0.1621284543751975\n",
      "time: 4.329082325926045\n",
      "tokens: 10463.70358306189 75.33876221498372\n",
      "\n"
     ]
    }
   ],
   "source": [
    "#nl_dev \n",
    "\n",
    "dataset = 'nl_dev'\n",
    "sufficient_provenance_strategy_pool = ['LLM_score_sufficient_bottem_up','LLM_score_sufficient_top_down','embedding_sufficient_top_down','embedding_sufficient_bottem_up', 'divide_and_conquer_sufficient']\n",
    "minimal_provenance_strategy_pool = ['exponential_greedy','sequential_greedy','null']\n",
    "\n",
    "data_path = parent_directory + '/data/natural-questions_nq-dev-full.json'\n",
    "result_folder_path = '/Users/yiminglin/Documents/Codebase/doc_provenance_results/eval' + '/nl_dev/results/'\n",
    "\n",
    "size_ratios_nl_dev, large_case_ids_nl_dev, medium_case_ids_nl_dev = get_aggregate_results(sufficient_provenance_strategy_pool, minimal_provenance_strategy_pool, data_path, result_folder_path,dataset)\n",
    "\n",
    "    \n",
    "                "
   ]
  },
  {
   "cell_type": "code",
   "execution_count": null,
   "metadata": {},
   "outputs": [
    {
     "name": "stdout",
     "output_type": "stream",
     "text": [
      "LLM_score_sufficient_bottem_up_null\n",
      "[105, 145, 272]\n",
      "LLM_score_sufficient_top_down_null\n",
      "[13, 31, 42, 48, 79, 145, 173, 199, 267, 311, 341, 395, 404, 448]\n",
      "embedding_sufficient_top_down_null\n",
      "[2, 13, 30, 31, 34, 145, 231, 235, 262, 320, 369, 395, 404, 412, 498]\n",
      "embedding_sufficient_bottem_up_null\n",
      "[105, 145]\n",
      "divide_and_conquer_sufficient_null\n",
      "[31, 88, 119, 145, 167, 173, 296, 342, 369, 392, 393, 418, 422, 498]\n"
     ]
    }
   ],
   "source": [
    "for strategy, ids in large_case_ids_nl_dev.items():\n",
    "    print(strategy)\n",
    "    print(ids)\n",
    "write_json_to_file(result_folder_path + 'new_large_cases.json', large_case_ids_nl_dev)"
   ]
  },
  {
   "cell_type": "code",
   "execution_count": 74,
   "metadata": {},
   "outputs": [
    {
     "name": "stdout",
     "output_type": "stream",
     "text": [
      "LLM_score_sufficient_bottem_up_null\n",
      "[3, 31, 60, 70, 75, 79, 96, 107, 118, 167, 173, 218, 224, 252, 257, 267, 273, 284, 286, 331, 333, 345, 360, 397, 466]\n",
      "LLM_score_sufficient_top_down_null\n",
      "[3, 60, 73, 75, 96, 107, 118, 119, 218, 252, 257, 273, 284, 286, 331, 333, 338, 345, 360, 403, 414, 466]\n",
      "embedding_sufficient_top_down_null\n",
      "[55, 60, 70, 75, 96, 107, 114, 150, 157, 173, 218, 225, 234, 267, 273, 285, 331, 393, 407, 466]\n",
      "embedding_sufficient_bottem_up_null\n",
      "[30, 60, 75, 96, 107, 114, 218, 234, 252, 267, 272, 273, 331, 341, 393, 407, 412, 418, 420]\n",
      "divide_and_conquer_sufficient_null\n",
      "[75, 96, 158, 214, 218, 235, 254, 257, 284, 285, 286, 320, 331, 338, 362, 448, 466]\n"
     ]
    }
   ],
   "source": [
    "for strategy, ids in medium_case_ids_nl_dev.items():\n",
    "    print(strategy)\n",
    "    print(ids)\n",
    "write_json_to_file(result_folder_path + 'new_medium_cases.json', medium_case_ids_nl_dev)"
   ]
  },
  {
   "cell_type": "code",
   "execution_count": 90,
   "metadata": {},
   "outputs": [
    {
     "name": "stdout",
     "output_type": "stream",
     "text": [
      "LLM_score_sufficient_bottem_up_null\n",
      "LLM_score_sufficient_top_down_null\n",
      "embedding_sufficient_top_down_null\n",
      "embedding_sufficient_bottem_up_null\n",
      "divide_and_conquer_sufficient_null\n"
     ]
    }
   ],
   "source": [
    "def get_diff(list1, list2):\n",
    "    set1 = set(list1)\n",
    "    set2 = set(list2)\n",
    "    common = set1 & set2\n",
    "    return sorted(list((set1 | set2) - common))\n",
    "\n",
    "result_folder_path = '/Users/yiminglin/Documents/Codebase/doc_provenance_results/eval' + '/nl_dev/results/'\n",
    "\n",
    "old_large_id_path = result_folder_path + 'large_cases.json' \n",
    "new_large_id_path = result_folder_path + 'new_large_cases.json'\n",
    "old_medium_id_path = result_folder_path + 'medium_cases.json'\n",
    "new_medium_id_path = result_folder_path + 'new_medium_cases.json'\n",
    "\n",
    "old_lage_ids = read_json(old_large_id_path)\n",
    "new_large_ids = read_json(new_large_id_path)\n",
    "old_medium_ids = read_json(old_medium_id_path)\n",
    "new_medium_ids = read_json(new_medium_id_path)\n",
    "\n",
    "diff_ids = {}\n",
    "for strategy, old_large_id in old_lage_ids.items():\n",
    "    new_large_id = new_large_ids[strategy]\n",
    "    large_diff = get_diff(old_large_id, new_large_id)\n",
    "    print(strategy)\n",
    "    # print(old_large_id)\n",
    "    # print(new_large_id)\n",
    "    # print(large_diff)\n",
    "    old_medium_id = old_medium_ids[strategy]\n",
    "    new_medium_id = new_medium_ids[strategy]\n",
    "    medium_diff = get_diff(old_medium_id, new_medium_id)\n",
    "    ids = sorted(set(large_diff + medium_diff)) \n",
    "    diff_ids[strategy] = ids\n",
    "    # print(old_medium_id)\n",
    "    # print(new_medium_id)\n",
    "    # print(medium_diff)\n",
    "write_json_to_file(result_folder_path + 'diff_ids.json', diff_ids)\n"
   ]
  },
  {
   "cell_type": "code",
   "execution_count": 75,
   "metadata": {},
   "outputs": [
    {
     "name": "stdout",
     "output_type": "stream",
     "text": [
      "LLM_score_sufficient_bottem_up_null\n",
      "LLM_score_sufficient_top_down_null\n",
      "embedding_sufficient_top_down_null\n",
      "embedding_sufficient_bottem_up_null\n",
      "divide_and_conquer_sufficient_null\n"
     ]
    },
    {
     "data": {
      "image/png": "[encoded data removed]",
      "text/plain": [
       "<Figure size 1080x576 with 5 Axes>"
      ]
     },
     "metadata": {
      "needs_background": "light"
     },
     "output_type": "display_data"
    }
   ],
   "source": [
    "\n",
    "plot_size_ratio_distribution(sufficient_provenance_strategy_pool, minimal_provenance_strategy_pool, size_ratios_nl_dev)\n",
    "\n"
   ]
  },
  {
   "cell_type": "code",
   "execution_count": 76,
   "metadata": {},
   "outputs": [
    {
     "name": "stdout",
     "output_type": "stream",
     "text": [
      "LLM_score_sufficient_bottem_up_null\n",
      "provenance_size, size_ratio: 1002.2535545023696 0.17866682336472114\n",
      "time: 3.998506580483857\n",
      "tokens: 4720.144549763033 48.89099526066351\n",
      "\n",
      "LLM_score_sufficient_top_down_null\n",
      "provenance_size, size_ratio: 1171.6082191780822 0.21745740207830597\n",
      "time: 3.884887488247597\n",
      "tokens: 4423.695890410959 41.52602739726027\n",
      "\n",
      "embedding_sufficient_top_down_null\n",
      "provenance_size, size_ratio: 1257.8610354223433 0.23342978195753852\n",
      "time: 3.273323503437094\n",
      "tokens: 4641.310626702997 46.38964577656676\n",
      "\n",
      "embedding_sufficient_bottem_up_null\n",
      "provenance_size, size_ratio: 760.8132387706855 0.15651455443181866\n",
      "time: 4.4897255035156896\n",
      "tokens: 5790.945626477542 77.25059101654847\n",
      "\n",
      "divide_and_conquer_sufficient_null\n",
      "provenance_size, size_ratio: 847.7704485488126 0.16586671371446213\n",
      "time: 4.194397009771543\n",
      "tokens: 6733.44327176781 62.2532981530343\n",
      "\n"
     ]
    }
   ],
   "source": [
    "#paper \n",
    "\n",
    "dataset = 'paper'\n",
    "sufficient_provenance_strategy_pool = ['LLM_score_sufficient_bottem_up','LLM_score_sufficient_top_down','embedding_sufficient_top_down','embedding_sufficient_bottem_up', 'divide_and_conquer_sufficient']\n",
    "minimal_provenance_strategy_pool = ['exponential_greedy','sequential_greedy','null']\n",
    "\n",
    "data_path = parent_directory + '/data/qasper_sample_papers.json'\n",
    "result_folder_path = '/Users/yiminglin/Documents/Codebase/doc_provenance_results/eval' + '/paper/results/'\n",
    "\n",
    "size_ratios_paper, large_case_ids_paper, medium_case_ids_paper = get_aggregate_results(sufficient_provenance_strategy_pool, minimal_provenance_strategy_pool, data_path, result_folder_path, dataset)\n",
    "\n",
    "    \n",
    "                "
   ]
  },
  {
   "cell_type": "code",
   "execution_count": 79,
   "metadata": {},
   "outputs": [
    {
     "name": "stdout",
     "output_type": "stream",
     "text": [
      "LLM_score_sufficient_bottem_up_null\n",
      "377\n",
      "provenance_size, size_ratio: 660.1671087533157 0.12882001342525418\n",
      "time: 3.2499394853171997\n",
      "tokens: 2293.46949602122 26.084880636604776\n",
      "\n",
      "LLM_score_sufficient_top_down_null\n",
      "326\n",
      "provenance_size, size_ratio: 1028.1349693251534 0.19210769203485445\n",
      "time: 4.016267977609225\n",
      "tokens: 4450.199386503067 40.88650306748466\n",
      "\n",
      "embedding_sufficient_top_down_null\n",
      "326\n",
      "provenance_size, size_ratio: 1038.058282208589 0.20265727789003704\n",
      "time: 3.4241137065770437\n",
      "tokens: 4674.39263803681 45.25766871165644\n",
      "\n",
      "embedding_sufficient_bottem_up_null\n",
      "393\n",
      "provenance_size, size_ratio: 624.1246819338422 0.12165194305530767\n",
      "time: 3.6387969531479074\n",
      "tokens: 4378.241730279899 47.712468193384225\n",
      "\n",
      "divide_and_conquer_sufficient_null\n",
      "353\n",
      "provenance_size, size_ratio: 794.2407932011331 0.15471093186403767\n",
      "time: 4.233135255808195\n",
      "tokens: 6658.529745042493 59.991501416430594\n",
      "\n"
     ]
    }
   ],
   "source": [
    "#paper \n",
    "\n",
    "dataset = 'paper'\n",
    "sufficient_provenance_strategy_pool = ['LLM_score_sufficient_bottem_up','LLM_score_sufficient_top_down','embedding_sufficient_top_down','embedding_sufficient_bottem_up', 'divide_and_conquer_sufficient']\n",
    "minimal_provenance_strategy_pool = ['exponential_greedy','sequential_greedy','null']\n",
    "\n",
    "data_path = parent_directory + '/data/qasper_sample_papers.json'\n",
    "result_folder_path = '/Users/yiminglin/Documents/Codebase/doc_provenance_results/eval' + '/paper/results/'\n",
    "\n",
    "size_ratios_paper, large_case_ids_paper, medium_case_ids_paper = get_aggregate_results(sufficient_provenance_strategy_pool, minimal_provenance_strategy_pool, data_path, result_folder_path, dataset)\n",
    "\n",
    "    \n",
    "                "
   ]
  },
  {
   "cell_type": "code",
   "execution_count": 65,
   "metadata": {},
   "outputs": [
    {
     "name": "stdout",
     "output_type": "stream",
     "text": [
      "LLM_score_sufficient_bottem_up_null\n",
      "[8, 361]\n",
      "LLM_score_sufficient_top_down_null\n",
      "[8, 48, 69, 132, 159, 167, 215, 276, 319, 333, 360, 361, 380, 421, 435, 438, 455, 473, 482, 483]\n",
      "embedding_sufficient_top_down_null\n",
      "[18, 24, 34, 48, 60, 122, 197, 215, 253, 292, 328, 341, 344, 380, 382, 415, 438, 455, 473, 497]\n",
      "embedding_sufficient_bottem_up_null\n",
      "[215, 473]\n",
      "divide_and_conquer_sufficient_null\n",
      "[8, 41, 47, 48, 50, 60, 80, 122, 131, 149, 150, 159, 185, 292, 310, 326, 344, 361, 380, 455, 473, 496]\n"
     ]
    }
   ],
   "source": [
    "for strategy, ids in large_case_ids_paper.items():\n",
    "    print(strategy)\n",
    "    print(ids)\n",
    "write_json_to_file(result_folder_path + 'new_large_cases.json', large_case_ids_paper)"
   ]
  },
  {
   "cell_type": "code",
   "execution_count": 80,
   "metadata": {},
   "outputs": [
    {
     "name": "stdout",
     "output_type": "stream",
     "text": [
      "LLM_score_sufficient_bottem_up_null\n",
      "[60, 167, 178, 197, 319, 323, 341, 360, 397, 455, 473, 483, 486]\n",
      "LLM_score_sufficient_top_down_null\n",
      "[19, 143, 178, 197, 201, 323, 328, 331, 411]\n",
      "embedding_sufficient_top_down_null\n",
      "[19, 33, 42, 76, 150, 152, 168, 196, 219, 262, 263, 284, 326, 331, 435, 453]\n",
      "embedding_sufficient_bottem_up_null\n",
      "[18, 47, 69, 131, 150, 197, 221, 328, 341, 378, 453, 494, 497]\n",
      "divide_and_conquer_sufficient_null\n",
      "[33, 88, 197, 262, 341]\n"
     ]
    }
   ],
   "source": [
    "for strategy, ids in medium_case_ids_paper.items():\n",
    "    print(strategy)\n",
    "    print(ids)\n",
    "write_json_to_file(result_folder_path + 'new_medium_cases.json', medium_case_ids_paper)"
   ]
  },
  {
   "cell_type": "code",
   "execution_count": 92,
   "metadata": {},
   "outputs": [
    {
     "name": "stdout",
     "output_type": "stream",
     "text": [
      "LLM_score_sufficient_bottem_up_null\n",
      "LLM_score_sufficient_top_down_null\n",
      "embedding_sufficient_top_down_null\n",
      "embedding_sufficient_bottem_up_null\n",
      "divide_and_conquer_sufficient_null\n"
     ]
    }
   ],
   "source": [
    "def get_diff(list1, list2):\n",
    "    set1 = set(list1)\n",
    "    set2 = set(list2)\n",
    "    common = set1 & set2\n",
    "    return sorted(list((set1 | set2) - common))\n",
    "\n",
    "result_folder_path = '/Users/yiminglin/Documents/Codebase/doc_provenance_results/eval' + '/paper/results/'\n",
    "\n",
    "old_large_id_path = result_folder_path + 'large_cases.json' \n",
    "new_large_id_path = result_folder_path + 'new_large_cases.json'\n",
    "old_medium_id_path = result_folder_path + 'medium_cases.json'\n",
    "new_medium_id_path = result_folder_path + 'new_medium_cases.json'\n",
    "\n",
    "old_lage_ids = read_json(old_large_id_path)\n",
    "new_large_ids = read_json(new_large_id_path)\n",
    "old_medium_ids = read_json(old_medium_id_path)\n",
    "new_medium_ids = read_json(new_medium_id_path)\n",
    "\n",
    "diff_ids = {}\n",
    "for strategy, old_large_id in old_lage_ids.items():\n",
    "    new_large_id = new_large_ids[strategy]\n",
    "    large_diff = get_diff(old_large_id, new_large_id)\n",
    "    print(strategy)\n",
    "    # print(old_large_id)\n",
    "    # print(new_large_id)\n",
    "    # print(large_diff)\n",
    "    old_medium_id = old_medium_ids[strategy]\n",
    "    new_medium_id = new_medium_ids[strategy]\n",
    "    medium_diff = get_diff(old_medium_id, new_medium_id)\n",
    "    ids = sorted(set(large_diff + medium_diff)) \n",
    "    diff_ids[strategy] = ids\n",
    "    # print(old_medium_id)\n",
    "    # print(new_medium_id)\n",
    "    # print(medium_diff)\n",
    "write_json_to_file(result_folder_path + 'diff_ids.json', diff_ids)\n"
   ]
  },
  {
   "cell_type": "code",
   "execution_count": 66,
   "metadata": {},
   "outputs": [
    {
     "name": "stdout",
     "output_type": "stream",
     "text": [
      "LLM_score_sufficient_bottem_up_null\n",
      "LLM_score_sufficient_top_down_null\n",
      "embedding_sufficient_top_down_null\n",
      "embedding_sufficient_bottem_up_null\n",
      "divide_and_conquer_sufficient_null\n"
     ]
    },
    {
     "data": {
      "image/png": "[encoded data removed]",
      "text/plain": [
       "<Figure size 1080x576 with 5 Axes>"
      ]
     },
     "metadata": {
      "needs_background": "light"
     },
     "output_type": "display_data"
    }
   ],
   "source": [
    "plot_size_ratio_distribution(sufficient_provenance_strategy_pool, minimal_provenance_strategy_pool, size_ratios_paper)\n",
    "\n"
   ]
  },
  {
   "cell_type": "code",
   "execution_count": 81,
   "metadata": {},
   "outputs": [
    {
     "name": "stdout",
     "output_type": "stream",
     "text": [
      "LLM_score_sufficient_bottem_up_null\n",
      "310\n",
      "provenance_size, size_ratio: 340.0 0.2844092653543175\n",
      "time: 1.6014735260317403\n",
      "tokens: 616.5419354838709 6.603225806451613\n",
      "\n",
      "LLM_score_sufficient_top_down_null\n",
      "305\n",
      "provenance_size, size_ratio: 368.95081967213116 0.30444571151975075\n",
      "time: 1.774425823180402\n",
      "tokens: 978.3803278688524 8.767213114754098\n",
      "\n",
      "embedding_sufficient_top_down_null\n",
      "301\n",
      "provenance_size, size_ratio: 366.3687707641196 0.3051952618249427\n",
      "time: 4.2338358294528184\n",
      "tokens: 1228.8671096345515 11.272425249169435\n",
      "\n",
      "embedding_sufficient_bottem_up_null\n",
      "316\n",
      "provenance_size, size_ratio: 356.44620253164555 0.29513083109726346\n",
      "time: 4.108421647850471\n",
      "tokens: 772.0474683544304 7.575949367088608\n",
      "\n",
      "divide_and_conquer_sufficient_null\n",
      "306\n",
      "provenance_size, size_ratio: 278.8888888888889 0.23014640292823776\n",
      "time: 2.230546425370609\n",
      "tokens: 1715.8790849673203 14.30718954248366\n",
      "\n"
     ]
    }
   ],
   "source": [
    "#hotpot \n",
    "\n",
    "dataset = 'hotpotQA'\n",
    "sufficient_provenance_strategy_pool = ['LLM_score_sufficient_bottem_up','LLM_score_sufficient_top_down','embedding_sufficient_top_down','embedding_sufficient_bottem_up', 'divide_and_conquer_sufficient']\n",
    "minimal_provenance_strategy_pool = ['exponential_greedy','sequential_greedy','null']\n",
    "\n",
    "data_path = parent_directory + '/data/hotpotQA_fullwiki.json'\n",
    "result_folder_path = '/Users/yiminglin/Documents/Codebase/doc_provenance_results/eval' + '/hotpotQA/results/'\n",
    "\n",
    "size_ratios_hotpot, large_case_ids_hotpot, medium_case_ids_hotpot = get_aggregate_results(sufficient_provenance_strategy_pool, minimal_provenance_strategy_pool, data_path, result_folder_path, dataset)\n",
    "\n",
    "    \n",
    "                "
   ]
  },
  {
   "cell_type": "code",
   "execution_count": 83,
   "metadata": {},
   "outputs": [
    {
     "name": "stdout",
     "output_type": "stream",
     "text": [
      "LLM_score_sufficient_bottem_up_null\n",
      "294\n",
      "provenance_size, size_ratio: 287.3775510204082 0.24822992006813688\n",
      "time: 1.785233084847327\n",
      "tokens: 444.6020408163265 5.098639455782313\n",
      "\n",
      "LLM_score_sufficient_top_down_null\n",
      "296\n",
      "provenance_size, size_ratio: 353.1587837837838 0.29371695340139903\n",
      "time: 1.8538886832224357\n",
      "tokens: 970.7162162162163 8.516891891891891\n",
      "\n",
      "embedding_sufficient_top_down_null\n",
      "288\n",
      "provenance_size, size_ratio: 355.8125 0.3025345791539321\n",
      "time: 4.4676405977871685\n",
      "tokens: 1210.7430555555557 11.020833333333334\n",
      "\n",
      "embedding_sufficient_bottem_up_null\n",
      "294\n",
      "provenance_size, size_ratio: 300.1938775510204 0.25836676037235273\n",
      "time: 3.833663581990871\n",
      "tokens: 579.1326530612245 6.091836734693878\n",
      "\n",
      "divide_and_conquer_sufficient_null\n",
      "297\n",
      "provenance_size, size_ratio: 261.020202020202 0.2186452699354881\n",
      "time: 2.3207723500351314\n",
      "tokens: 1713.828282828283 14.424242424242424\n",
      "\n"
     ]
    }
   ],
   "source": [
    "#hotpot \n",
    "\n",
    "dataset = 'hotpotQA'\n",
    "sufficient_provenance_strategy_pool = ['LLM_score_sufficient_bottem_up','LLM_score_sufficient_top_down','embedding_sufficient_top_down','embedding_sufficient_bottem_up', 'divide_and_conquer_sufficient']\n",
    "minimal_provenance_strategy_pool = ['exponential_greedy','sequential_greedy','null']\n",
    "\n",
    "data_path = parent_directory + '/data/hotpotQA_fullwiki.json'\n",
    "result_folder_path = '/Users/yiminglin/Documents/Codebase/doc_provenance_results/eval' + '/hotpotQA/results/'\n",
    "\n",
    "size_ratios_hotpot, large_case_ids_hotpot, medium_case_ids_hotpot = get_aggregate_results(sufficient_provenance_strategy_pool, minimal_provenance_strategy_pool, data_path, result_folder_path, dataset)\n",
    "\n",
    "    \n",
    "                "
   ]
  },
  {
   "cell_type": "code",
   "execution_count": 82,
   "metadata": {},
   "outputs": [
    {
     "name": "stdout",
     "output_type": "stream",
     "text": [
      "LLM_score_sufficient_bottem_up_null\n",
      "[11, 15, 22, 25, 29, 35, 38, 39, 45, 46, 52, 72, 79, 81, 84, 90, 91, 121, 122, 123, 126, 129, 133, 134, 145, 149, 151, 177, 179, 186, 197, 200, 204, 208, 216, 220, 222, 233, 234, 235, 254, 262, 264, 269, 277, 283, 285, 302, 313, 326, 332, 335, 345, 368, 373, 374, 389, 397, 398, 399, 401, 403, 405, 407, 411, 413, 414, 415, 418, 426, 434, 435, 438, 448, 453, 460, 464, 465, 469, 470, 471, 473, 478, 483, 487, 492]\n",
      "LLM_score_sufficient_top_down_null\n",
      "[9, 15, 19, 26, 29, 33, 36, 38, 39, 46, 79, 81, 84, 90, 91, 121, 122, 123, 129, 145, 149, 151, 179, 186, 190, 191, 197, 204, 208, 220, 233, 234, 235, 254, 262, 264, 266, 269, 277, 283, 285, 297, 302, 308, 336, 345, 351, 368, 369, 373, 374, 379, 389, 392, 399, 403, 411, 413, 414, 415, 418, 426, 433, 434, 435, 438, 441, 448, 450, 452, 453, 460, 465, 469, 473, 478, 487, 492]\n",
      "embedding_sufficient_top_down_null\n",
      "[9, 23, 25, 29, 38, 39, 42, 45, 46, 55, 71, 88, 90, 91, 121, 122, 138, 145, 151, 153, 156, 163, 177, 179, 183, 186, 189, 190, 191, 200, 204, 216, 225, 228, 233, 234, 237, 242, 254, 259, 262, 269, 277, 286, 294, 297, 302, 304, 313, 332, 335, 345, 350, 358, 363, 368, 373, 374, 385, 389, 392, 396, 399, 401, 405, 407, 412, 413, 433, 434, 435, 438, 439, 448, 463, 464, 469, 470, 474, 476, 483, 489, 497]\n",
      "embedding_sufficient_bottem_up_null\n",
      "[9, 10, 12, 22, 23, 29, 35, 38, 39, 42, 45, 46, 52, 55, 71, 72, 88, 90, 91, 103, 121, 122, 134, 145, 149, 153, 156, 167, 173, 177, 178, 179, 186, 189, 191, 200, 204, 208, 219, 225, 228, 233, 234, 237, 254, 255, 259, 262, 269, 277, 286, 294, 296, 297, 302, 304, 313, 326, 332, 335, 345, 350, 351, 356, 358, 363, 364, 373, 374, 382, 385, 389, 392, 398, 399, 401, 405, 407, 410, 412, 413, 414, 433, 434, 435, 438, 439, 441, 444, 448, 452, 458, 460, 463, 464, 469, 470, 473, 474, 476, 483, 494, 497]\n",
      "divide_and_conquer_sufficient_null\n",
      "[9, 10, 11, 19, 33, 35, 38, 39, 122, 129, 134, 142, 145, 151, 155, 162, 179, 181, 191, 200, 204, 212, 219, 229, 235, 238, 254, 262, 269, 277, 283, 286, 287, 297, 313, 368, 373, 374, 399, 405, 407, 413, 414, 441, 444, 452, 463, 464, 469, 471, 473, 485, 487]\n"
     ]
    }
   ],
   "source": [
    "for strategy, ids in medium_case_ids_hotpot.items():\n",
    "    print(strategy)\n",
    "    print(ids)\n",
    "write_json_to_file(result_folder_path + 'medium_cases.json', medium_case_ids_hotpot)"
   ]
  },
  {
   "cell_type": "code",
   "execution_count": 94,
   "metadata": {},
   "outputs": [
    {
     "name": "stdout",
     "output_type": "stream",
     "text": [
      "LLM_score_sufficient_bottem_up_null\n",
      "[15, 29, 72, 91, 122, 123, 126, 149, 151, 179, 197, 204, 208, 220, 234, 254, 262, 269, 277, 283, 302, 313, 332, 345, 374, 389, 397, 403, 411, 413, 414, 426, 434, 438, 448, 453, 465, 469, 470, 471, 478, 492]\n",
      "LLM_score_sufficient_top_down_null\n",
      "[9, 19, 29, 79, 91, 122, 123, 149, 151, 179, 197, 208, 234, 254, 262, 266, 277, 283, 297, 302, 308, 345, 351, 368, 374, 389, 403, 411, 413, 414, 433, 434, 438, 450, 453, 465, 469, 473, 478, 492]\n",
      "embedding_sufficient_top_down_null\n",
      "[23, 29, 39, 42, 71, 88, 90, 91, 121, 145, 153, 156, 177, 179, 183, 186, 189, 190, 216, 228, 234, 242, 254, 262, 269, 277, 286, 294, 297, 302, 313, 332, 345, 350, 374, 392, 396, 399, 401, 412, 434, 438, 439, 464, 469, 470, 474, 476]\n",
      "embedding_sufficient_bottem_up_null\n",
      "[12, 23, 29, 39, 42, 55, 71, 72, 88, 90, 91, 121, 122, 145, 153, 156, 173, 177, 179, 186, 189, 228, 234, 254, 255, 262, 269, 277, 286, 294, 297, 302, 313, 332, 345, 350, 351, 374, 382, 389, 392, 399, 401, 412, 413, 434, 438, 439, 444, 448, 460, 469, 470, 474, 476]\n",
      "divide_and_conquer_sufficient_null\n",
      "[19, 33, 122, 155, 179, 181, 219, 254, 262, 269, 277, 286, 405, 413, 414, 464, 469]\n"
     ]
    }
   ],
   "source": [
    "for strategy, ids in medium_case_ids_hotpot.items():\n",
    "    print(strategy)\n",
    "    print(ids)\n",
    "write_json_to_file(result_folder_path + 'new_medium_cases.json', medium_case_ids_hotpot)"
   ]
  },
  {
   "cell_type": "code",
   "execution_count": 95,
   "metadata": {},
   "outputs": [
    {
     "name": "stdout",
     "output_type": "stream",
     "text": [
      "LLM_score_sufficient_bottem_up_null\n",
      "LLM_score_sufficient_top_down_null\n",
      "embedding_sufficient_top_down_null\n",
      "embedding_sufficient_bottem_up_null\n",
      "divide_and_conquer_sufficient_null\n"
     ]
    }
   ],
   "source": [
    "def get_diff(list1, list2):\n",
    "    set1 = set(list1)\n",
    "    set2 = set(list2)\n",
    "    common = set1 & set2\n",
    "    return sorted(list((set1 | set2) - common))\n",
    "\n",
    "result_folder_path = '/Users/yiminglin/Documents/Codebase/doc_provenance_results/eval' + '/hotpotQA/results/'\n",
    "\n",
    "old_large_id_path = result_folder_path + 'large_cases.json' \n",
    "new_large_id_path = result_folder_path + 'new_large_cases.json'\n",
    "old_medium_id_path = result_folder_path + 'medium_cases.json'\n",
    "new_medium_id_path = result_folder_path + 'new_medium_cases.json'\n",
    "\n",
    "old_lage_ids = read_json(old_large_id_path)\n",
    "new_large_ids = read_json(new_large_id_path)\n",
    "old_medium_ids = read_json(old_medium_id_path)\n",
    "new_medium_ids = read_json(new_medium_id_path)\n",
    "\n",
    "diff_ids = {}\n",
    "for strategy, old_large_id in old_lage_ids.items():\n",
    "    new_large_id = new_large_ids[strategy]\n",
    "    large_diff = get_diff(old_large_id, new_large_id)\n",
    "    print(strategy)\n",
    "    # print(old_large_id)\n",
    "    # print(new_large_id)\n",
    "    # print(large_diff)\n",
    "    old_medium_id = old_medium_ids[strategy]\n",
    "    new_medium_id = new_medium_ids[strategy]\n",
    "    medium_diff = get_diff(old_medium_id, new_medium_id)\n",
    "    ids = sorted(set(large_diff + medium_diff)) \n",
    "    diff_ids[strategy] = ids\n",
    "    # print(old_medium_id)\n",
    "    # print(new_medium_id)\n",
    "    # print(medium_diff)\n",
    "write_json_to_file(result_folder_path + 'diff_ids.json', diff_ids)\n"
   ]
  },
  {
   "cell_type": "code",
   "execution_count": 69,
   "metadata": {},
   "outputs": [
    {
     "name": "stdout",
     "output_type": "stream",
     "text": [
      "LLM_score_sufficient_bottem_up_null\n",
      "LLM_score_sufficient_top_down_null\n",
      "embedding_sufficient_top_down_null\n",
      "embedding_sufficient_bottem_up_null\n",
      "divide_and_conquer_sufficient_null\n"
     ]
    },
    {
     "data": {
      "image/png": "[encoded data removed]",
      "text/plain": [
       "<Figure size 1080x576 with 5 Axes>"
      ]
     },
     "metadata": {
      "needs_background": "light"
     },
     "output_type": "display_data"
    }
   ],
   "source": [
    "plot_size_ratio_distribution(sufficient_provenance_strategy_pool, minimal_provenance_strategy_pool, size_ratios_hotpot)\n",
    "\n"
   ]
  }
 ],
 "metadata": {
  "kernelspec": {
   "display_name": "base",
   "language": "python",
   "name": "python3"
  },
  "language_info": {
   "codemirror_mode": {
    "name": "ipython",
    "version": 3
   },
   "file_extension": ".py",
   "mimetype": "text/x-python",
   "name": "python",
   "nbconvert_exporter": "python",
   "pygments_lexer": "ipython3",
   "version": "3.9.7"
  }
 },
 "nbformat": 4,
 "nbformat_minor": 2
}

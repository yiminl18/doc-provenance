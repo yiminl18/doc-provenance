{
 "cells": [
  {
   "cell_type": "code",
   "execution_count": null,
   "metadata": {},
   "outputs": [],
   "source": [
    "#get difference ids \n",
    "\n",
    "def get_diff(list1, list2):\n",
    "    set1 = set(list1)\n",
    "    set2 = set(list2)\n",
    "    common = set1 & set2\n",
    "    return sorted(list((set1 | set2) - common))\n",
    "\n",
    "result_folder_path = '/Users/yiminglin/Documents/Codebase/doc_provenance_results/eval' + '/nl_dev/results/'\n",
    "\n",
    "old_large_id_path = result_folder_path + 'large_cases.json' \n",
    "new_large_id_path = result_folder_path + 'new_large_cases.json'\n",
    "old_medium_id_path = result_folder_path + 'medium_cases.json'\n",
    "new_medium_id_path = result_folder_path + 'new_medium_cases.json'\n",
    "\n",
    "old_lage_ids = read_json(old_large_id_path)\n",
    "new_large_ids = read_json(new_large_id_path)\n",
    "old_medium_ids = read_json(old_medium_id_path)\n",
    "new_medium_ids = read_json(new_medium_id_path)\n",
    "\n",
    "diff_ids = {}\n",
    "for strategy, old_large_id in old_lage_ids.items():\n",
    "    new_large_id = new_large_ids[strategy]\n",
    "    large_diff = get_diff(old_large_id, new_large_id)\n",
    "    print(strategy)\n",
    "    # print(old_large_id)\n",
    "    # print(new_large_id)\n",
    "    # print(large_diff)\n",
    "    old_medium_id = old_medium_ids[strategy]\n",
    "    new_medium_id = new_medium_ids[strategy]\n",
    "    medium_diff = get_diff(old_medium_id, new_medium_id)\n",
    "    ids = sorted(set(large_diff + medium_diff)) \n",
    "    diff_ids[strategy] = ids\n",
    "    # print(old_medium_id)\n",
    "    # print(new_medium_id)\n",
    "    # print(medium_diff)\n",
    "write_json_to_file(result_folder_path + 'diff_ids.json', diff_ids)"
   ]
  }
 ],
 "metadata": {
  "language_info": {
   "name": "python"
  }
 },
 "nbformat": 4,
 "nbformat_minor": 2
}

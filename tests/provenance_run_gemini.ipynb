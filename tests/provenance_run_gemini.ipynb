{
 "cells": [
  {
   "cell_type": "code",
   "execution_count": 2,
   "id": "d1915433",
   "metadata": {},
   "outputs": [],
   "source": [
    "import doc_provenance\n",
    "import os \n",
    "from pathlib import Path\n",
    "\n",
    "parent_directory = str(Path().resolve().parent)"
   ]
  },
  {
   "cell_type": "code",
   "execution_count": 3,
   "id": "f978f7c3",
   "metadata": {},
   "outputs": [],
   "source": [
    "def create_folder_if_not_exists(folder_path):\n",
    "    if not os.path.exists(folder_path):\n",
    "        os.makedirs(folder_path)"
   ]
  },
  {
   "cell_type": "code",
   "execution_count": null,
   "id": "06100a38",
   "metadata": {},
   "outputs": [],
   "source": [
    "model_name = 'gemini2flash'#'gemini2flash', gpt4omini\n",
    "data = 'paper'\n",
    "data_folder = ''\n",
    "embedding_folder = ''\n",
    "result_folder = ''\n",
    "if data == 'paper':\n",
    "    data_folder = parent_directory + '/data/qasper_sample_papers.json'\n",
    "elif data == 'nl_dev':\n",
    "    data_folder = parent_directory + '/data/natural-questions_nq-dev-full.json'\n",
    "elif data == 'hotpotQA':\n",
    "    data_folder = parent_directory + '/data/hotpotQA_fullwiki.json'\n",
    "\n",
    "embedding_folder = parent_directory + '/out/' + data \n",
    "result_folder = '/Users/yiminglin/Documents/Codebase/doc_provenance_results/' + model_name  + '/eval' + '/' + data + '/results/'\n",
    "\n",
    "print(data_folder)\n",
    "print(embedding_folder)\n",
    "print(result_folder)\n",
    "\n",
    "create_folder_if_not_exists(result_folder)\n",
    "\n",
    "doc_provenance.provenance_run(data, data_folder, embedding_folder, result_folder, model_name)"
   ]
  }
 ],
 "metadata": {
  "kernelspec": {
   "display_name": "base",
   "language": "python",
   "name": "python3"
  },
  "language_info": {
   "codemirror_mode": {
    "name": "ipython",
    "version": 3
   },
   "file_extension": ".py",
   "mimetype": "text/x-python",
   "name": "python",
   "nbconvert_exporter": "python",
   "pygments_lexer": "ipython3",
   "version": "3.9.7"
  }
 },
 "nbformat": 4,
 "nbformat_minor": 5
}

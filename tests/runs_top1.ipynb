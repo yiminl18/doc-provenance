{
 "cells": [
  {
   "cell_type": "code",
   "execution_count": null,
   "metadata": {},
   "outputs": [
    {
     "name": "stderr",
     "output_type": "stream",
     "text": [
      "[nltk_data] Downloading package punkt to /Users/yiminglin/nltk_data...\n",
      "[nltk_data]   Package punkt is already up-to-date!\n",
      "[nltk_data] Downloading package punkt to /Users/yiminglin/nltk_data...\n",
      "[nltk_data]   Package punkt is already up-to-date!\n"
     ]
    }
   ],
   "source": [
    "import doc_provenance\n",
    "\n",
    "import os\n",
    "cwd = os.getcwd()\n",
    "parent_directory = os.path.dirname(cwd)"
   ]
  },
  {
   "cell_type": "code",
   "execution_count": 2,
   "metadata": {},
   "outputs": [],
   "source": [
    "sufficient_provenance_strategy_pool = ['raw','embedding_sufficient_top_down','embedding_sufficient_bottem_up','divide_and_conquer_sufficient', 'LLM_score_sufficient_top_down', 'LLM_score_sufficient_bottem_up']\n",
    "minimal_provenance_strategy_pool = ['sequential_greedy', 'exponential_greedy']"
   ]
  },
  {
   "cell_type": "code",
   "execution_count": null,
   "metadata": {},
   "outputs": [],
   "source": [
    "#hotpot datasets\n",
    "\n",
    "data_path = parent_directory + '/data/hotpotQA_fullwiki.json'\n",
    "folder_path = parent_directory + '/out/hotpotQA'\n",
    "hotpot_objects = doc_provenance.digest_hotpotQA_dataset(data_path)\n",
    "\n",
    "\n",
    "num_of_case = 10\n",
    "\n",
    "i = -1\n",
    "for e in hotpot_objects:\n",
    "    i += 1\n",
    "    q = e['question']\n",
    "    instruction = e['instruction']\n",
    "    question = (q, instruction)\n",
    "    text = e['context']\n",
    "    title = e['document_name']\n",
    "\n",
    "    for sufficient_provenance_strategy in sufficient_provenance_strategy_pool:\n",
    "        for minimal_provenance_strategy in minimal_provenance_strategy_pool:\n",
    "            strategy = sufficient_provenance_strategy + '_' + minimal_provenance_strategy\n",
    "\n",
    "            path = folder_path + '/results/' + 'hotpot' + '_q' + str(i) + '_' + strategy + '.json'\n",
    "            if not os.path.exists(folder_path + '/results'):\n",
    "                os.makedirs(folder_path + '/results')\n",
    "            # if os.path.isfile(path):\n",
    "            #     continue\n",
    "            print(path)\n",
    "            embedding_path = folder_path + '/embeddings/' + 'hotpot' + '_q' + str(i) + '_embeddings.npy'"
   ]
  }
 ],
 "metadata": {
  "kernelspec": {
   "display_name": "base",
   "language": "python",
   "name": "python3"
  },
  "language_info": {
   "codemirror_mode": {
    "name": "ipython",
    "version": 3
   },
   "file_extension": ".py",
   "mimetype": "text/x-python",
   "name": "python",
   "nbconvert_exporter": "python",
   "pygments_lexer": "ipython3",
   "version": "3.9.7"
  }
 },
 "nbformat": 4,
 "nbformat_minor": 2
}

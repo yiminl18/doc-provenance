{
 "cells": [
  {
   "cell_type": "code",
   "execution_count": 2,
   "metadata": {},
   "outputs": [
    {
     "name": "stderr",
     "output_type": "stream",
     "text": [
      "[nltk_data] Downloading package punkt to /Users/yiminglin/nltk_data...\n",
      "[nltk_data]   Package punkt is already up-to-date!\n",
      "[nltk_data] Downloading package punkt to /Users/yiminglin/nltk_data...\n",
      "[nltk_data]   Package punkt is already up-to-date!\n",
      "[nltk_data] Downloading package punkt to /Users/yiminglin/nltk_data...\n",
      "[nltk_data]   Package punkt is already up-to-date!\n",
      "[nltk_data] Downloading package punkt to /Users/yiminglin/nltk_data...\n",
      "[nltk_data]   Package punkt is already up-to-date!\n"
     ]
    }
   ],
   "source": [
    "import doc_provenance"
   ]
  },
  {
   "cell_type": "code",
   "execution_count": 3,
   "metadata": {},
   "outputs": [],
   "source": [
    "from pdfminer.high_level import extract_text\n",
    "def extract_text_from_pdf(pdf_path):\n",
    "    return extract_text(pdf_path)"
   ]
  },
  {
   "cell_type": "code",
   "execution_count": 4,
   "metadata": {},
   "outputs": [],
   "source": [
    "import os \n",
    "root_path = os.getcwd()\n",
    "pdf_path = root_path + '/data/I Dont Understand Issues in Self-Quantifying Commuting.pdf'\n",
    "\n",
    "pdf_text = extract_text_from_pdf(pdf_path)"
   ]
  },
  {
   "cell_type": "code",
   "execution_count": null,
   "metadata": {},
   "outputs": [
    {
     "name": "stdout",
     "output_type": "stream",
     "text": [
      "model gpt4omini\n",
      "model_name gpt4omini\n",
      "/Users/yiminglin/Documents/Codebase/doc-provenance/tests/out /Users/yiminglin/Documents/Codebase/doc-provenance/tests/outprovenance.json\n",
      "7872\n",
      "model_name gpt4o\n",
      "10, 10, 1, 1, 1, 1, 1, 1, 1, 1, 1, 1, 1, 1, 1, 1, 1, 1\n",
      "starting topk...\n",
      "topk_provenance_id 0\n",
      "[0, 1, 2, 3, 4, 5, 6, 7, 8, 9, 10, 11, 12, 13, 14, 15, 16, 17, 18, 19, 20, 21, 22, 23, 24, 25, 26, 27, 28, 29, 30, 31, 32, 33, 34, 35, 36, 37, 38, 39, 40, 41, 42, 43, 44, 45, 46, 47, 48, 49, 50, 51, 52, 53, 54, 55, 56, 57, 58, 59, 60, 61, 62, 63, 64, 65, 66, 67, 68, 69, 70, 71, 72, 73, 74, 75, 76, 77, 78, 79, 80, 81, 82, 83, 84, 85, 86, 87, 88, 89, 90, 91, 92, 93, 94, 95, 96, 97, 98, 99, 100, 101, 102, 103, 104, 105, 106, 107, 108, 109, 110, 111, 112, 113, 114, 115, 116, 117, 118, 119, 120, 121, 122, 123, 124, 125, 126, 127, 128, 129, 130, 131, 132, 133, 134, 135, 136, 137, 138, 139, 140, 141, 142, 143, 144, 145, 146, 147, 148, 149, 150, 151, 152, 153, 154, 155, 156, 157, 158, 159, 160, 161, 162, 163, 164, 165, 166, 167, 168, 169, 170, 171, 172, 173, 174, 175, 176, 177, 178, 179, 180, 181, 182, 183, 184, 185, 186, 187] True\n",
      "model_name gpt4omini\n",
      "[0, 1, 2, 3, 4, 5, 6, 7, 8, 9, 10, 11, 12, 13, 14, 15, 16, 17, 18, 19, 20, 21, 22, 23, 24, 25, 26, 27, 28, 29, 30, 31, 32, 33, 34, 35, 36, 37, 38, 39, 40, 41, 42, 43, 44, 45, 46, 47, 48, 49, 50, 51, 52, 53, 54, 55, 56, 57, 58, 59, 60, 61, 62, 63, 64, 65, 66, 67, 68, 69, 70, 71, 72, 73, 74, 75, 76, 77, 78, 79, 80, 81, 82, 83, 84, 85, 86, 87, 88, 89, 90, 91, 92, 93] True\n",
      "model_name gpt4omini\n",
      "[0, 1, 2, 3, 4, 5, 6, 7, 8, 9, 10, 11, 12, 13, 14, 15, 16, 17, 18, 19, 20, 21, 22, 23, 24, 25, 26, 27, 28, 29, 30, 31, 32, 33, 34, 35, 36, 37, 38, 39, 40, 41, 42, 43, 44, 45, 46] True\n",
      "model_name gpt4omini\n",
      "[0, 1, 2, 3, 4, 5, 6, 7, 8, 9, 10, 11, 12, 13, 14, 15, 16, 17, 18, 19, 20, 21, 22] True\n",
      "model_name gpt4omini\n",
      "[0, 1, 2, 3, 4, 5, 6, 7, 8, 9, 10] True\n",
      "model_name gpt4omini\n",
      "[5, 6, 7, 8, 9, 10] True\n",
      "model_name gpt4omini\n",
      "[8, 9, 10] False\n",
      "model_name gpt4omini\n",
      "[5, 6, 7] True\n",
      "model_name gpt4omini\n",
      "model_name gpt4omini\n",
      "model_name gpt4omini\n",
      "Top-0  provenance: [6]\n",
      "Provenance: In  Proceedings  of  31st  European  Conference  on  Cognitive \n",
      "Ergonomics  (ECCE  2019),  September  10-13,  2019,  BELFAST,  <,  United \n",
      "Kingdom. pages.\n",
      "Input tokens: 9420\n",
      "Output tokens: 13\n",
      "Time: 5.5279951095581055\n",
      "model_name gpt4omini\n",
      "[0, 1, 2, 3, 4] False\n",
      "model_name gpt4omini\n",
      "[11, 12, 13, 14, 15, 16, 17, 18, 19, 20, 21, 22] True\n",
      "model_name gpt4omini\n",
      "[11, 12, 13, 14, 15, 16] True\n",
      "model_name gpt4omini\n",
      "[14, 15, 16] False\n",
      "model_name gpt4omini\n",
      "[11, 12, 13] True\n",
      "model_name gpt4omini\n",
      "model_name gpt4omini\n",
      "Top-1  provenance: [13]\n",
      "Provenance: ACM ISBN 978-1-4503-7166-7/19/09...$15.00 \n",
      "https://doi.org/10.1145/3335082.3335100  \n",
      "\n",
      "fee.\n",
      "Input tokens: 11085\n",
      "Output tokens: 21\n",
      "Time: 8.585331916809082\n",
      "model_name gpt4omini\n",
      "[17, 18, 19, 20, 21, 22] False\n",
      "model_name gpt4omini\n",
      "[23, 24, 25, 26, 27, 28, 29, 30, 31, 32, 33, 34, 35, 36, 37, 38, 39, 40, 41, 42, 43, 44, 45, 46] True\n",
      "model_name gpt4omini\n",
      "[35, 36, 37, 38, 39, 40, 41, 42, 43, 44, 45, 46] False\n",
      "model_name gpt4omini\n",
      "[23, 24, 25, 26, 27, 28, 29, 30, 31, 32, 33, 34] True\n",
      "model_name gpt4omini\n",
      "[29, 30, 31, 32, 33, 34] True\n",
      "model_name gpt4omini\n",
      "[32, 33, 34] True\n",
      "model_name gpt4omini\n",
      "model_name gpt4omini\n",
      "model_name gpt4omini\n",
      "Top-2  provenance: [32]\n",
      "Provenance: We \n",
      "targeted  specifically  financial  costs  and  CO2  emissions  due  to \n",
      "commuting  as  these  quantities  are  at  the  same  time  hard  to \n",
      "compute  accurately  for  people  and  can  have  a  relative  strong \n",
      "\n",
      "144 \n",
      " \n",
      "                                                                 \n",
      "\fECCE 2019, September 10-13, 2019, BELFAST, <, United Kingdom \n",
      "\n",
      "Cecile Boulard et al.\n",
      "Input tokens: 13971\n",
      "Output tokens: 31\n",
      "Time: 13.408125162124634\n",
      "model_name gpt4omini\n",
      "[29, 30, 31] False\n",
      "model_name gpt4omini\n",
      "[23, 24, 25, 26, 27, 28] False\n",
      "model_name gpt4omini\n",
      "[47, 48, 49, 50, 51, 52, 53, 54, 55, 56, 57, 58, 59, 60, 61, 62, 63, 64, 65, 66, 67, 68, 69, 70, 71, 72, 73, 74, 75, 76, 77, 78, 79, 80, 81, 82, 83, 84, 85, 86, 87, 88, 89, 90, 91, 92, 93] True\n",
      "model_name gpt4omini\n",
      "[70, 71, 72, 73, 74, 75, 76, 77, 78, 79, 80, 81, 82, 83, 84, 85, 86, 87, 88, 89, 90, 91, 92, 93] True\n",
      "model_name gpt4omini\n",
      "[82, 83, 84, 85, 86, 87, 88, 89, 90, 91, 92, 93] False\n",
      "model_name gpt4omini\n",
      "[70, 71, 72, 73, 74, 75, 76, 77, 78, 79, 80, 81] True\n",
      "model_name gpt4omini\n",
      "[76, 77, 78, 79, 80, 81] False\n",
      "model_name gpt4omini\n",
      "[70, 71, 72, 73, 74, 75] True\n",
      "model_name gpt4omini\n",
      "[73, 74, 75] True\n",
      "model_name gpt4omini\n",
      "model_name gpt4omini\n",
      "model_name gpt4omini\n",
      "Top-3  provenance: [73]\n",
      "Provenance: This can be \n",
      "an  issue  when  it  comes  to  the  perceived  (un)fairness  of  the \n",
      "model  (which  we  will  discuss  later),  but  also  when  weighting \n",
      "\n",
      "145 \n",
      " \n",
      "\f“I Don’t Understand…” Issues in Self-Quantifying Commuting \n",
      "\n",
      "ECCE 2019, September 10-13, 2019, BELFAST, <, United Kingdom \n",
      "\n",
      "financial  costs  against  environmental  impact.\n",
      "Input tokens: 20263\n",
      "Output tokens: 45\n",
      "Time: 18.965523958206177\n",
      "model_name gpt4omini\n",
      "[70, 71, 72] False\n",
      "model_name gpt4omini\n",
      "[47, 48, 49, 50, 51, 52, 53, 54, 55, 56, 57, 58, 59, 60, 61, 62, 63, 64, 65, 66, 67, 68, 69] False\n",
      "model_name gpt4omini\n",
      "[94, 95, 96, 97, 98, 99, 100, 101, 102, 103, 104, 105, 106, 107, 108, 109, 110, 111, 112, 113, 114, 115, 116, 117, 118, 119, 120, 121, 122, 123, 124, 125, 126, 127, 128, 129, 130, 131, 132, 133, 134, 135, 136, 137, 138, 139, 140, 141, 142, 143, 144, 145, 146, 147, 148, 149, 150, 151, 152, 153, 154, 155, 156, 157, 158, 159, 160, 161, 162, 163, 164, 165, 166, 167, 168, 169, 170, 171, 172, 173, 174, 175, 176, 177, 178, 179, 180, 181, 182, 183, 184, 185, 186, 187] False\n"
     ]
    }
   ],
   "source": [
    "result_path = root_path + '/out/'\n",
    "question = 'What is the publication year of current paper? ' \n",
    "doc_provenance.divide_and_conquer_progressive_API(question, pdf_text, result_path) "
   ]
  },
  {
   "cell_type": "code",
   "execution_count": 8,
   "metadata": {},
   "outputs": [
    {
     "name": "stdout",
     "output_type": "stream",
     "text": [
      "model_name gpt4o\n",
      "What are the names of police officers who used force with both a Baton and Knee before February 10?\n",
      "['This document is a Use of Force Report from the Bakersfield Police Department, detailing an incident that occurred on February 8, 2018. The report outlines the use of force by officers during the arrest of a suspect named Juan Ramirez. Key points from the report include:\\n\\n- **Incident Details**: The incident took place at 3021 Durrwood Street, Bakersfield, CA, at 5:26 AM. The case number is 18-27623, and the internal affairs number is UOF2018-0060.\\n\\n- **Officers Involved**: Officers Beattie, Messick, Romo, and Brackett were involved in the incident. Each officer used different types of force to subdue the suspect.\\n\\n- **Use of Force**: \\n  - Officer Messick used a baton, fist, knee, and body weight, all of which were effective.\\n  - Officer Beattie used a taser, fist, and body weight, but these were not effective.\\n  - Officer Brackett used body weight and a hobble, both effective.\\n  - Officer Romo used a control hold and body weight, both effective.\\n\\n- **Suspect Information**: Juan Ramirez, a Hispanic male born on September 7, 1990, was the suspect. He was actively resisting arrest and sustained a serious injury (a broken lower right leg) during the incident. He was taken to the hospital and arrested on charges related to property crimes, a foot pursuit, and a warrant.\\n\\n- **Environmental Conditions**: The incident occurred in clear weather but in dark lighting conditions, with officers and the suspect in close proximity (1 to 3 feet).\\n\\n- **Body Worn Cameras**: None of the officers involved had body-worn cameras applicable during the incident.\\n\\n- **Attachments**: The report includes an MP3 file of the suspect interview conducted by Sergeant Sporer.\\n\\nThis report is pending further assignment for investigation, and no additional tasks or running sheet entries are noted.']\n",
      "model_name gpt4o\n"
     ]
    },
    {
     "data": {
      "text/plain": [
       "{'title': '1715882251765-owf-1',\n",
       " 'question': 'What are the names of police officers who used force with both a Baton and Knee before February 10?',\n",
       " 'answers': ['This document is a Use of Force Report from the Bakersfield Police Department, detailing an incident that occurred on February 8, 2018. The report outlines the use of force by officers during the arrest of a suspect named Juan Ramirez. Key points from the report include:\\n\\n- **Incident Details**: The incident took place at 3021 Durrwood Street, Bakersfield, CA, at 5:26 AM. The case number is 18-27623, and the internal affairs number is UOF2018-0060.\\n\\n- **Officers Involved**: Officers Beattie, Messick, Romo, and Brackett were involved in the incident. Each officer used different types of force to subdue the suspect.\\n\\n- **Use of Force**: \\n  - Officer Messick used a baton, fist, knee, and body weight, all of which were effective.\\n  - Officer Beattie used a taser, fist, and body weight, but these were not effective.\\n  - Officer Brackett used body weight and a hobble, both effective.\\n  - Officer Romo used a control hold and body weight, both effective.\\n\\n- **Suspect Information**: Juan Ramirez, a Hispanic male born on September 7, 1990, was the suspect. He was actively resisting arrest and sustained a serious injury (a broken lower right leg) during the incident. He was taken to the hospital and arrested on charges related to property crimes, a foot pursuit, and a warrant.\\n\\n- **Environmental Conditions**: The incident occurred in clear weather but in dark lighting conditions, with officers and the suspect in close proximity (1 to 3 feet).\\n\\n- **Body Worn Cameras**: None of the officers involved had body-worn cameras applicable during the incident.\\n\\n- **Attachments**: The report includes an MP3 file of the suspect interview conducted by Sergeant Sporer.\\n\\nThis report is pending further assignment for investigation, and no additional tasks or running sheet entries are noted.'],\n",
       " 'context_size': 1325,\n",
       " 'time': 5.11273193359375,\n",
       " 'provenance': 'Incident Summary\\n\\nDOJ Officers Beattie, Messick, Romo and Brackett used force to take the suspect into custody. Officer Messick struck the suspect with his baton. The suspect sustained a broken lower right leg. Officer Beattie took photographs of the suspect. Sergeant Sporer conducted the use of force interview with the suspect.\\n\\nIncident Location\\n\\n• 3021 Durrwood Street, Bakersfield, CA 93304 - Location of Occurrence: Valley\\n\\nUse of Force Specific Information\\n\\nWeather Condition\\n\\nLighting Condition\\n\\nDistance to Citizen\\n\\nClear\\n\\nDark\\n\\n1 feet to 3 feet\\n\\nReporting/Involved Citizen Information\\n\\nJuan Ramirez\\n\\nDOB: 9/7/1990 Race: Hispanic Ethnicity: Gender: Male\\n\\nTypes of Resistance Citizen Used Against Officer(s)\\n\\n• Active Resistance\\n\\nCharges against this Citizen\\n\\n• Property Crimes\\n• Foot Pursuit\\n• Warrant\\n\\nInvolved Officers\\n\\nOfficer Kelton Beattie - Badge No.:\\n\\nBody Worn Camera: Not Applicable\\n\\nForce used by this officer against the citizen\\n\\n• Fist - Was force effective: No\\n• Body Weight - Was force effective: No\\n\\nLess Lethal Force used by this officer against the citizen\\n\\n• Taser - Was Less Lethal Force Used Effective? No\\n\\nOfficer Nickolas Brackett - Badge No.:\\n\\nBody Worn Camera: Not Applicable\\n\\nForce used by this officer against the citizen\\n\\n• Body Weight - Was force effective: Yes\\n• Hobble - Was force effective: Yes\\n\\nOfficer Christopher Messick - Badge No.:\\n\\nBody Worn Camera: Not Applicable\\n\\nForce used by this officer against the citizen\\n\\n• Baton/ASP - Was force effective: Yes\\n• Fist - Was force effective: Yes\\n• Knee - Was force effective: Yes\\n• Body Weight - Was force effective: Yes\\n\\nOfficer Alex Romo - Badge No.:\\n\\nBody Worn Camera: Not Applicable\\n\\nForce used by this officer against the citizen\\n\\n• Control Hold - Was force effective: Yes\\n• Body Weight - Was force effective: Yes\\n\\nAttachments\\n\\nDate Attached\\n\\nAttachment Description\\n\\nAttachment Type\\n\\n2/9/2018\\n\\nUoF suspect interview.\\n\\nMP3',\n",
       " 'provenance_size': 442,\n",
       " 'tokens': (1804, 442)}"
      ]
     },
     "execution_count": 8,
     "metadata": {},
     "output_type": "execute_result"
    }
   ],
   "source": [
    "out_path = result_path + '1715882251765-owf-1.json'\n",
    "doc_provenance.set_model('gpt4o')\n",
    "out = doc_provenance.LLM_vanilla(question, pdf_text, '1715882251765-owf-1', out_path, 'gpt4o')\n",
    "\n",
    "out"
   ]
  }
 ],
 "metadata": {
  "kernelspec": {
   "display_name": "base",
   "language": "python",
   "name": "python3"
  },
  "language_info": {
   "codemirror_mode": {
    "name": "ipython",
    "version": 3
   },
   "file_extension": ".py",
   "mimetype": "text/x-python",
   "name": "python",
   "nbconvert_exporter": "python",
   "pygments_lexer": "ipython3",
   "version": "3.9.7"
  }
 },
 "nbformat": 4,
 "nbformat_minor": 2
}

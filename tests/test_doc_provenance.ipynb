{
 "cells": [
  {
   "cell_type": "code",
   "execution_count": 1,
   "metadata": {},
   "outputs": [
    {
     "name": "stderr",
     "output_type": "stream",
     "text": [
      "[nltk_data] Downloading package punkt to /Users/yiminglin/nltk_data...\n",
      "[nltk_data]   Package punkt is already up-to-date!\n"
     ]
    }
   ],
   "source": [
    "import doc_provenance"
   ]
  },
  {
   "cell_type": "code",
   "execution_count": 2,
   "metadata": {},
   "outputs": [],
   "source": [
    "from pdfminer.high_level import extract_text\n",
    "def extract_text_from_pdf(pdf_path):\n",
    "    return extract_text(pdf_path)"
   ]
  },
  {
   "cell_type": "code",
   "execution_count": 3,
   "metadata": {},
   "outputs": [],
   "source": [
    "import os \n",
    "root_path = os.getcwd()\n",
    "pdf_path = root_path + '/data/I Dont Understand Issues in Self-Quantifying Commuting.pdf'\n",
    "\n",
    "pdf_text = extract_text_from_pdf(pdf_path)"
   ]
  },
  {
   "cell_type": "code",
   "execution_count": 4,
   "metadata": {},
   "outputs": [
    {
     "name": "stdout",
     "output_type": "stream",
     "text": [
      "Answers: ['2019']\n",
      "7872\n",
      "10\n",
      "10\n",
      "10\n",
      "10\n",
      "10\n",
      "10\n",
      "10\n",
      "10\n",
      "10\n",
      "10\n",
      "10\n",
      "1\n",
      "1\n",
      "1\n",
      "1\n",
      "1\n",
      "1\n",
      "1\n",
      "1\n",
      "Top-0  provenance: [73]\n",
      "Provenance: This can be \n",
      "an  issue  when  it  comes  to  the  perceived  (un)fairness  of  the \n",
      "model  (which  we  will  discuss  later),  but  also  when  weighting \n",
      "\n",
      "145 \n",
      " \n",
      "\f“I Don’t Understand…” Issues in Self-Quantifying Commuting \n",
      "\n",
      "ECCE 2019, September 10-13, 2019, BELFAST, <, United Kingdom \n",
      "\n",
      "financial  costs  against  environmental  impact.\n",
      "Input tokens: 18162\n",
      "Output tokens: 29\n",
      "Time: 4.244926929473877\n",
      "Top-1  provenance: [32]\n",
      "Provenance: We \n",
      "targeted  specifically  financial  costs  and  CO2  emissions  due  to \n",
      "commuting  as  these  quantities  are  at  the  same  time  hard  to \n",
      "compute  accurately  for  people  and  can  have  a  relative  strong \n",
      "\n",
      "144 \n",
      " \n",
      "                                                                 \n",
      "\fECCE 2019, September 10-13, 2019, BELFAST, <, United Kingdom \n",
      "\n",
      "Cecile Boulard et al.\n",
      "Input tokens: 24010\n",
      "Output tokens: 80\n",
      "Time: 8.564655065536499\n",
      "Top-2  provenance: [13]\n",
      "Provenance: ACM ISBN 978-1-4503-7166-7/19/09...$15.00 \n",
      "https://doi.org/10.1145/3335082.3335100  \n",
      "\n",
      "fee.\n",
      "Input tokens: 27074\n",
      "Output tokens: 131\n",
      "Time: 13.276860237121582\n",
      "Top-3  provenance: [6]\n",
      "Provenance: In  Proceedings  of  31st  European  Conference  on  Cognitive \n",
      "Ergonomics  (ECCE  2019),  September  10-13,  2019,  BELFAST,  <,  United \n",
      "Kingdom. pages.\n",
      "Input tokens: 28387\n",
      "Output tokens: 149\n",
      "Time: 16.15307903289795\n"
     ]
    }
   ],
   "source": [
    "result_path = root_path + '/out'\n",
    "question = 'What is the publication year of this paper? ' \n",
    "doc_provenance.divide_and_conquer_progressive_API(question, pdf_text, result_path) "
   ]
  }
 ],
 "metadata": {
  "kernelspec": {
   "display_name": "base",
   "language": "python",
   "name": "python3"
  },
  "language_info": {
   "codemirror_mode": {
    "name": "ipython",
    "version": 3
   },
   "file_extension": ".py",
   "mimetype": "text/x-python",
   "name": "python",
   "nbconvert_exporter": "python",
   "pygments_lexer": "ipython3",
   "version": "3.9.7"
  }
 },
 "nbformat": 4,
 "nbformat_minor": 2
}

{
 "cells": [
  {
   "cell_type": "code",
   "execution_count": 1,
   "metadata": {},
   "outputs": [
    {
     "name": "stderr",
     "output_type": "stream",
     "text": [
      "[nltk_data] Downloading package punkt to /Users/yiminglin/nltk_data...\n",
      "[nltk_data]   Package punkt is already up-to-date!\n",
      "[nltk_data] Downloading package punkt to /Users/yiminglin/nltk_data...\n",
      "[nltk_data]   Package punkt is already up-to-date!\n",
      "[nltk_data] Downloading package punkt to /Users/yiminglin/nltk_data...\n",
      "[nltk_data]   Package punkt is already up-to-date!\n",
      "[nltk_data] Downloading package punkt to /Users/yiminglin/nltk_data...\n",
      "[nltk_data]   Package punkt is already up-to-date!\n"
     ]
    }
   ],
   "source": [
    "import doc_provenance"
   ]
  },
  {
   "cell_type": "code",
   "execution_count": 2,
   "metadata": {},
   "outputs": [],
   "source": [
    "from pdfminer.high_level import extract_text\n",
    "def extract_text_from_pdf(pdf_path):\n",
    "    return extract_text(pdf_path)"
   ]
  },
  {
   "cell_type": "code",
   "execution_count": 3,
   "metadata": {},
   "outputs": [],
   "source": [
    "import os \n",
    "root_path = os.getcwd()\n",
    "pdf_path = root_path + '/data/I Dont Understand Issues in Self-Quantifying Commuting.pdf'\n",
    "\n",
    "pdf_text = extract_text_from_pdf(pdf_path)"
   ]
  },
  {
   "cell_type": "code",
   "execution_count": 4,
   "metadata": {},
   "outputs": [
    {
     "name": "stdout",
     "output_type": "stream",
     "text": [
      "model gpt_4o_mini_azure\n",
      "model_name gpt_4o_mini_azure\n",
      "/Users/yiminglin/Documents/Codebase/doc-provenance/tests/out/ /Users/yiminglin/Documents/Codebase/doc-provenance/tests/out/provenance.json\n",
      "7872\n",
      "10, 10, 1, 1, 1, 1, 1, 1, 1, 1, 1, 1, 1, 1, 1, 1, 1, 1\n",
      "starting topk...\n",
      "topk_provenance_id 0\n",
      "[0, 1, 2, 3, 4, 5, 6, 7, 8, 9, 10, 11, 12, 13, 14, 15, 16, 17, 18, 19, 20, 21, 22, 23, 24, 25, 26, 27, 28, 29, 30, 31, 32, 33, 34, 35, 36, 37, 38, 39, 40, 41, 42, 43, 44, 45, 46, 47, 48, 49, 50, 51, 52, 53, 54, 55, 56, 57, 58, 59, 60, 61, 62, 63, 64, 65, 66, 67, 68, 69, 70, 71, 72, 73, 74, 75, 76, 77, 78, 79, 80, 81, 82, 83, 84, 85, 86, 87, 88, 89, 90, 91, 92, 93, 94, 95, 96, 97, 98, 99, 100, 101, 102, 103, 104, 105, 106, 107, 108, 109, 110, 111, 112, 113, 114, 115, 116, 117, 118, 119, 120, 121, 122, 123, 124, 125, 126, 127, 128, 129, 130, 131, 132, 133, 134, 135, 136, 137, 138, 139, 140, 141, 142, 143, 144, 145, 146, 147, 148, 149, 150, 151, 152, 153, 154, 155, 156, 157, 158, 159, 160, 161, 162, 163, 164, 165, 166, 167, 168, 169, 170, 171, 172, 173, 174, 175, 176, 177, 178, 179, 180, 181, 182, 183, 184, 185, 186, 187] True\n",
      "provenance_ids [0, 1, 2, 3, 4, 5, 6, 7, 8, 9, 10, 11, 12, 13, 14, 15, 16, 17, 18, 19, 20, 21, 22, 23, 24, 25, 26, 27, 28, 29, 30, 31, 32, 33, 34, 35, 36, 37, 38, 39, 40, 41, 42, 43, 44, 45, 46, 47, 48, 49, 50, 51, 52, 53, 54, 55, 56, 57, 58, 59, 60, 61, 62, 63, 64, 65, 66, 67, 68, 69, 70, 71, 72, 73, 74, 75, 76, 77, 78, 79, 80, 81, 82, 83, 84, 85, 86, 87, 88, 89, 90, 91, 92, 93, 94, 95, 96, 97, 98, 99, 100, 101, 102, 103, 104, 105, 106, 107, 108, 109, 110, 111, 112, 113, 114, 115, 116, 117, 118, 119, 120, 121, 122, 123, 124, 125, 126, 127, 128, 129, 130, 131, 132, 133, 134, 135, 136, 137, 138, 139, 140, 141, 142, 143, 144, 145, 146, 147, 148, 149, 150, 151, 152, 153, 154, 155, 156, 157, 158, 159, 160, 161, 162, 163, 164, 165, 166, 167, 168, 169, 170, 171, 172, 173, 174, 175, 176, 177, 178, 179, 180, 181, 182, 183, 184, 185, 186, 187]\n",
      "provenance size ratio 0.966583850931677\n"
     ]
    },
    {
     "ename": "IsADirectoryError",
     "evalue": "[Errno 21] Is a directory: '/Users/yiminglin/Documents/Codebase/doc-provenance/tests/intermediate/temp_provenance.json'",
     "output_type": "error",
     "traceback": [
      "\u001b[0;31m---------------------------------------------------------------------------\u001b[0m",
      "\u001b[0;31mIsADirectoryError\u001b[0m                         Traceback (most recent call last)",
      "Input \u001b[0;32mIn [4]\u001b[0m, in \u001b[0;36m<module>\u001b[0;34m\u001b[0m\n\u001b[1;32m      2\u001b[0m intermediate_path \u001b[38;5;241m=\u001b[39m root_path \u001b[38;5;241m+\u001b[39m \u001b[38;5;124m'\u001b[39m\u001b[38;5;124m/intermediate/temp_provenance.json\u001b[39m\u001b[38;5;124m'\u001b[39m\n\u001b[1;32m      3\u001b[0m question \u001b[38;5;241m=\u001b[39m \u001b[38;5;124m'\u001b[39m\u001b[38;5;124mWhat is the publication year of the paper? \u001b[39m\u001b[38;5;124m'\u001b[39m \n\u001b[0;32m----> 4\u001b[0m \u001b[43mdoc_provenance\u001b[49m\u001b[38;5;241;43m.\u001b[39;49m\u001b[43mdivide_and_conquer_progressive_API\u001b[49m\u001b[43m(\u001b[49m\u001b[43mquestion\u001b[49m\u001b[43m,\u001b[49m\u001b[43m \u001b[49m\u001b[43mpdf_text\u001b[49m\u001b[43m,\u001b[49m\u001b[43m \u001b[49m\u001b[43mresult_path\u001b[49m\u001b[43m,\u001b[49m\u001b[43m \u001b[49m\u001b[43mintermediate_path\u001b[49m\u001b[43m)\u001b[49m\n",
      "File \u001b[0;32m~/Documents/Codebase/doc-provenance/doc_provenance/base_strategies.py:497\u001b[0m, in \u001b[0;36mdivide_and_conquer_progressive_API\u001b[0;34m(raw_question, text, result_path, intermediate_path, k, stop_sentence_length, metric)\u001b[0m\n\u001b[1;32m    494\u001b[0m     ids\u001b[38;5;241m.\u001b[39mappend(i)\n\u001b[1;32m    496\u001b[0m \u001b[38;5;28mprint\u001b[39m(\u001b[38;5;124m'\u001b[39m\u001b[38;5;124mstarting topk...\u001b[39m\u001b[38;5;124m'\u001b[39m)\n\u001b[0;32m--> 497\u001b[0m \u001b[43mdivide_and_conquer_iterative_with_cache_progressive\u001b[49m\u001b[43m(\u001b[49m\u001b[43manswers\u001b[49m\u001b[43m,\u001b[49m\u001b[43m \u001b[49m\u001b[43mquestion\u001b[49m\u001b[43m,\u001b[49m\u001b[43m \u001b[49m\u001b[43mids\u001b[49m\u001b[43m,\u001b[49m\u001b[43m \u001b[49m\u001b[43msentences\u001b[49m\u001b[43m,\u001b[49m\u001b[43m \u001b[49m\u001b[43mblock_scores\u001b[49m\u001b[43m,\u001b[49m\u001b[43m \u001b[49m\u001b[43mblocks_sentences_id\u001b[49m\u001b[43m,\u001b[49m\u001b[43m \u001b[49m\u001b[43mk\u001b[49m\u001b[43m,\u001b[49m\u001b[43m \u001b[49m\u001b[43mstop_sentence_length\u001b[49m\u001b[43m,\u001b[49m\u001b[43m \u001b[49m\u001b[43mprovenance_path\u001b[49m\u001b[43m,\u001b[49m\u001b[43m \u001b[49m\u001b[43mintermediate_path\u001b[49m\u001b[43m,\u001b[49m\u001b[43m \u001b[49m\u001b[43mdoc_size\u001b[49m\u001b[43m,\u001b[49m\u001b[43m \u001b[49m\u001b[43mmetric\u001b[49m\u001b[43m \u001b[49m\u001b[38;5;241;43m=\u001b[39;49m\u001b[43m \u001b[49m\u001b[43mmetric\u001b[49m\u001b[43m)\u001b[49m\n",
      "File \u001b[0;32m~/Documents/Codebase/doc-provenance/doc_provenance/base_strategies.py:642\u001b[0m, in \u001b[0;36mdivide_and_conquer_iterative_with_cache_progressive\u001b[0;34m(answers, question, ids, sentences, block_scores, blocks_sentences_id, k, stop_sentence_length, result_path, intermediate_path, doc_size, metric)\u001b[0m\n\u001b[1;32m    639\u001b[0m \u001b[38;5;28;01mif\u001b[39;00m eval_result:\n\u001b[1;32m    640\u001b[0m     \u001b[38;5;66;03m#write the provenance to the file\u001b[39;00m\n\u001b[1;32m    641\u001b[0m     out_status \u001b[38;5;241m=\u001b[39m (intermediate_path, doc_size, sum_input_tokens, sum_output_tokens, time\u001b[38;5;241m.\u001b[39mtime() \u001b[38;5;241m-\u001b[39m st)\n\u001b[0;32m--> 642\u001b[0m     \u001b[43mwrite_intermediate_provenance\u001b[49m\u001b[43m(\u001b[49m\u001b[43mout_status\u001b[49m\u001b[43m,\u001b[49m\u001b[43m \u001b[49m\u001b[43mcurrent_ids\u001b[49m\u001b[43m,\u001b[49m\u001b[43m \u001b[49m\u001b[43msentences\u001b[49m\u001b[43m,\u001b[49m\u001b[43m \u001b[49m\u001b[38;5;241;43m0\u001b[39;49m\u001b[43m,\u001b[49m\u001b[43m \u001b[49m\u001b[38;5;241;43m0\u001b[39;49m\u001b[43m,\u001b[49m\u001b[43m \u001b[49m\u001b[43mtime\u001b[49m\u001b[38;5;241;43m.\u001b[39;49m\u001b[43mtime\u001b[49m\u001b[43m(\u001b[49m\u001b[43m)\u001b[49m\u001b[43m \u001b[49m\u001b[38;5;241;43m-\u001b[39;49m\u001b[43m \u001b[49m\u001b[43mst\u001b[49m\u001b[43m)\u001b[49m\n\u001b[1;32m    645\u001b[0m tuple_current_ids \u001b[38;5;241m=\u001b[39m \u001b[38;5;28mtuple\u001b[39m(current_ids)\n\u001b[1;32m    646\u001b[0m \u001b[38;5;28;01mif\u001b[39;00m \u001b[38;5;129;01mnot\u001b[39;00m eval_result:\n",
      "File \u001b[0;32m~/Documents/Codebase/doc-provenance/doc_provenance/base_strategies.py:573\u001b[0m, in \u001b[0;36mwrite_intermediate_provenance\u001b[0;34m(out_status, provenance_ids, sentences, input_token_size, output_token_size, new_time)\u001b[0m\n\u001b[1;32m    571\u001b[0m     folder \u001b[38;5;241m=\u001b[39m os\u001b[38;5;241m.\u001b[39mpath\u001b[38;5;241m.\u001b[39mdirname(intermediate_path)\n\u001b[1;32m    572\u001b[0m     create_data_folder(folder)\n\u001b[0;32m--> 573\u001b[0m \u001b[43mwrite_json_to_file\u001b[49m\u001b[43m(\u001b[49m\u001b[43mintermediate_path\u001b[49m\u001b[43m,\u001b[49m\u001b[43m \u001b[49m\u001b[43mprovenance_object\u001b[49m\u001b[43m)\u001b[49m\n",
      "File \u001b[0;32m~/Documents/Codebase/doc-provenance/doc_provenance/base_strategies.py:89\u001b[0m, in \u001b[0;36mwrite_json_to_file\u001b[0;34m(filename, data)\u001b[0m\n\u001b[1;32m     87\u001b[0m     \u001b[38;5;28mprint\u001b[39m(filename,\u001b[38;5;124m'\u001b[39m\u001b[38;5;124mnot exist!\u001b[39m\u001b[38;5;124m'\u001b[39m)\n\u001b[1;32m     88\u001b[0m     \u001b[38;5;28;01mreturn\u001b[39;00m \n\u001b[0;32m---> 89\u001b[0m \u001b[38;5;28;01mwith\u001b[39;00m \u001b[38;5;28;43mopen\u001b[39;49m\u001b[43m(\u001b[49m\u001b[43mfilename\u001b[49m\u001b[43m,\u001b[49m\u001b[43m \u001b[49m\u001b[38;5;124;43m\"\u001b[39;49m\u001b[38;5;124;43mw\u001b[39;49m\u001b[38;5;124;43m\"\u001b[39;49m\u001b[43m,\u001b[49m\u001b[43m \u001b[49m\u001b[43mencoding\u001b[49m\u001b[38;5;241;43m=\u001b[39;49m\u001b[38;5;124;43m\"\u001b[39;49m\u001b[38;5;124;43mutf-8\u001b[39;49m\u001b[38;5;124;43m\"\u001b[39;49m\u001b[43m)\u001b[49m \u001b[38;5;28;01mas\u001b[39;00m file:\n\u001b[1;32m     90\u001b[0m     json\u001b[38;5;241m.\u001b[39mdump(data, file, indent\u001b[38;5;241m=\u001b[39m\u001b[38;5;241m4\u001b[39m, ensure_ascii\u001b[38;5;241m=\u001b[39m\u001b[38;5;28;01mFalse\u001b[39;00m)\n",
      "\u001b[0;31mIsADirectoryError\u001b[0m: [Errno 21] Is a directory: '/Users/yiminglin/Documents/Codebase/doc-provenance/tests/intermediate/temp_provenance.json'"
     ]
    }
   ],
   "source": [
    "result_path = root_path + '/out/'\n",
    "intermediate_path = root_path + '/intermediate/temp_provenance.json'\n",
    "question = 'What is the publication year of the paper? ' \n",
    "doc_provenance.divide_and_conquer_progressive_API(question, pdf_text, result_path, intermediate_path) "
   ]
  },
  {
   "cell_type": "code",
   "execution_count": 8,
   "metadata": {},
   "outputs": [
    {
     "name": "stdout",
     "output_type": "stream",
     "text": [
      "model_name gpt4o\n",
      "What are the names of police officers who used force with both a Baton and Knee before February 10?\n",
      "['This document is a Use of Force Report from the Bakersfield Police Department, detailing an incident that occurred on February 8, 2018. The report outlines the use of force by officers during the arrest of a suspect named Juan Ramirez. Key points from the report include:\\n\\n- **Incident Details**: The incident took place at 3021 Durrwood Street, Bakersfield, CA, at 5:26 AM. The case number is 18-27623, and the internal affairs number is UOF2018-0060.\\n\\n- **Officers Involved**: Officers Beattie, Messick, Romo, and Brackett were involved in the incident. Each officer used different types of force to subdue the suspect.\\n\\n- **Use of Force**: \\n  - Officer Messick used a baton, fist, knee, and body weight, all of which were effective.\\n  - Officer Beattie used a taser, fist, and body weight, but these were not effective.\\n  - Officer Brackett used body weight and a hobble, both effective.\\n  - Officer Romo used a control hold and body weight, both effective.\\n\\n- **Suspect Information**: Juan Ramirez, a Hispanic male born on September 7, 1990, was the suspect. He was actively resisting arrest and sustained a serious injury (a broken lower right leg) during the incident. He was taken to the hospital and arrested on charges related to property crimes, a foot pursuit, and a warrant.\\n\\n- **Environmental Conditions**: The incident occurred in clear weather but in dark lighting conditions, with officers and the suspect in close proximity (1 to 3 feet).\\n\\n- **Body Worn Cameras**: None of the officers involved had body-worn cameras applicable during the incident.\\n\\n- **Attachments**: The report includes an MP3 file of the suspect interview conducted by Sergeant Sporer.\\n\\nThis report is pending further assignment for investigation, and no additional tasks or running sheet entries are noted.']\n",
      "model_name gpt4o\n"
     ]
    },
    {
     "data": {
      "text/plain": [
       "{'title': '1715882251765-owf-1',\n",
       " 'question': 'What are the names of police officers who used force with both a Baton and Knee before February 10?',\n",
       " 'answers': ['This document is a Use of Force Report from the Bakersfield Police Department, detailing an incident that occurred on February 8, 2018. The report outlines the use of force by officers during the arrest of a suspect named Juan Ramirez. Key points from the report include:\\n\\n- **Incident Details**: The incident took place at 3021 Durrwood Street, Bakersfield, CA, at 5:26 AM. The case number is 18-27623, and the internal affairs number is UOF2018-0060.\\n\\n- **Officers Involved**: Officers Beattie, Messick, Romo, and Brackett were involved in the incident. Each officer used different types of force to subdue the suspect.\\n\\n- **Use of Force**: \\n  - Officer Messick used a baton, fist, knee, and body weight, all of which were effective.\\n  - Officer Beattie used a taser, fist, and body weight, but these were not effective.\\n  - Officer Brackett used body weight and a hobble, both effective.\\n  - Officer Romo used a control hold and body weight, both effective.\\n\\n- **Suspect Information**: Juan Ramirez, a Hispanic male born on September 7, 1990, was the suspect. He was actively resisting arrest and sustained a serious injury (a broken lower right leg) during the incident. He was taken to the hospital and arrested on charges related to property crimes, a foot pursuit, and a warrant.\\n\\n- **Environmental Conditions**: The incident occurred in clear weather but in dark lighting conditions, with officers and the suspect in close proximity (1 to 3 feet).\\n\\n- **Body Worn Cameras**: None of the officers involved had body-worn cameras applicable during the incident.\\n\\n- **Attachments**: The report includes an MP3 file of the suspect interview conducted by Sergeant Sporer.\\n\\nThis report is pending further assignment for investigation, and no additional tasks or running sheet entries are noted.'],\n",
       " 'context_size': 1325,\n",
       " 'time': 5.11273193359375,\n",
       " 'provenance': 'Incident Summary\\n\\nDOJ Officers Beattie, Messick, Romo and Brackett used force to take the suspect into custody. Officer Messick struck the suspect with his baton. The suspect sustained a broken lower right leg. Officer Beattie took photographs of the suspect. Sergeant Sporer conducted the use of force interview with the suspect.\\n\\nIncident Location\\n\\n• 3021 Durrwood Street, Bakersfield, CA 93304 - Location of Occurrence: Valley\\n\\nUse of Force Specific Information\\n\\nWeather Condition\\n\\nLighting Condition\\n\\nDistance to Citizen\\n\\nClear\\n\\nDark\\n\\n1 feet to 3 feet\\n\\nReporting/Involved Citizen Information\\n\\nJuan Ramirez\\n\\nDOB: 9/7/1990 Race: Hispanic Ethnicity: Gender: Male\\n\\nTypes of Resistance Citizen Used Against Officer(s)\\n\\n• Active Resistance\\n\\nCharges against this Citizen\\n\\n• Property Crimes\\n• Foot Pursuit\\n• Warrant\\n\\nInvolved Officers\\n\\nOfficer Kelton Beattie - Badge No.:\\n\\nBody Worn Camera: Not Applicable\\n\\nForce used by this officer against the citizen\\n\\n• Fist - Was force effective: No\\n• Body Weight - Was force effective: No\\n\\nLess Lethal Force used by this officer against the citizen\\n\\n• Taser - Was Less Lethal Force Used Effective? No\\n\\nOfficer Nickolas Brackett - Badge No.:\\n\\nBody Worn Camera: Not Applicable\\n\\nForce used by this officer against the citizen\\n\\n• Body Weight - Was force effective: Yes\\n• Hobble - Was force effective: Yes\\n\\nOfficer Christopher Messick - Badge No.:\\n\\nBody Worn Camera: Not Applicable\\n\\nForce used by this officer against the citizen\\n\\n• Baton/ASP - Was force effective: Yes\\n• Fist - Was force effective: Yes\\n• Knee - Was force effective: Yes\\n• Body Weight - Was force effective: Yes\\n\\nOfficer Alex Romo - Badge No.:\\n\\nBody Worn Camera: Not Applicable\\n\\nForce used by this officer against the citizen\\n\\n• Control Hold - Was force effective: Yes\\n• Body Weight - Was force effective: Yes\\n\\nAttachments\\n\\nDate Attached\\n\\nAttachment Description\\n\\nAttachment Type\\n\\n2/9/2018\\n\\nUoF suspect interview.\\n\\nMP3',\n",
       " 'provenance_size': 442,\n",
       " 'tokens': (1804, 442)}"
      ]
     },
     "execution_count": 8,
     "metadata": {},
     "output_type": "execute_result"
    }
   ],
   "source": [
    "out_path = result_path + '1715882251765-owf-1.json'\n",
    "doc_provenance.set_model('gpt4o')\n",
    "out = doc_provenance.LLM_vanilla(question, pdf_text, '1715882251765-owf-1', out_path, 'gpt4o')\n",
    "\n",
    "out"
   ]
  }
 ],
 "metadata": {
  "kernelspec": {
   "display_name": "base",
   "language": "python",
   "name": "python3"
  },
  "language_info": {
   "codemirror_mode": {
    "name": "ipython",
    "version": 3
   },
   "file_extension": ".py",
   "mimetype": "text/x-python",
   "name": "python",
   "nbconvert_exporter": "python",
   "pygments_lexer": "ipython3",
   "version": "3.9.7"
  }
 },
 "nbformat": 4,
 "nbformat_minor": 2
}

{
 "cells": [
  {
   "cell_type": "code",
   "execution_count": 1,
   "id": "cfde02fc",
   "metadata": {},
   "outputs": [
    {
     "name": "stdout",
     "output_type": "stream",
     "text": [
      "/Users/yiminglin/Documents/Codebase/doc-provenance\n"
     ]
    },
    {
     "name": "stderr",
     "output_type": "stream",
     "text": [
      "[nltk_data] Downloading package punkt to /Users/yiminglin/nltk_data...\n",
      "[nltk_data]   Package punkt is already up-to-date!\n",
      "[nltk_data] Downloading package punkt to /Users/yiminglin/nltk_data...\n",
      "[nltk_data]   Package punkt is already up-to-date!\n",
      "[nltk_data] Downloading package punkt to /Users/yiminglin/nltk_data...\n",
      "[nltk_data]   Package punkt is already up-to-date!\n",
      "[nltk_data] Downloading package punkt to /Users/yiminglin/nltk_data...\n",
      "[nltk_data]   Package punkt is already up-to-date!\n"
     ]
    }
   ],
   "source": [
    "from pathlib import Path\n",
    "import matplotlib.pyplot as plt\n",
    "import matplotlib.ticker as mtick\n",
    "import numpy as np\n",
    "import pandas as pd\n",
    "import doc_provenance\n",
    "parent_directory = str(Path().resolve().parent)\n",
    "parent_directory\n",
    "\n",
    "import os,sys \n",
    "script_path = os.path.abspath(\"../src\")  # Adjust the path\n",
    "sys.path.append(script_path)\n",
    "print(parent_directory)\n",
    "\n",
    "import json \n",
    "import tiktoken\n",
    "\n",
    "def read_json(path):\n",
    "    if not os.path.exists(path):\n",
    "        print('File not found!', path)\n",
    "        return None\n",
    "    with open(path, \"r\", encoding=\"utf-8\") as file:\n",
    "        data = json.load(file)\n",
    "    return data\n",
    "\n",
    "def count_tokens(text, model=\"gpt-4o-mini\"):\n",
    "    encoder = tiktoken.encoding_for_model(model)  # Get the tokenizer for the specific model\n",
    "    tokens = encoder.encode(text)  # Encode text into tokens\n",
    "    return len(tokens)\n",
    "\n",
    "def write_json_to_file(filename, data):\n",
    "    with open(filename, \"w\") as f:\n",
    "        json.dump(data, f, indent=4)\n",
    "\n",
    "import statistics\n",
    "\n",
    "def find_substantially_large(values, factor=2):\n",
    "    \"\"\"\n",
    "    Find and return the values in the list that are substantially larger than the average.\n",
    "    \n",
    "    A value is considered substantially large if it is greater than:\n",
    "        mean + (factor * standard deviation)\n",
    "    \n",
    "    Parameters:\n",
    "        values (list of numbers): The list of values to analyze.\n",
    "        factor (float): The number of standard deviations above the mean \n",
    "                        that a value must be to be considered substantially large.\n",
    "                        Default is 2.\n",
    "    \n",
    "    Returns:\n",
    "        list: A list of values that exceed the threshold.\n",
    "    \"\"\"\n",
    "    if not values:\n",
    "        return [], 0 \n",
    "    \n",
    "    mean = statistics.mean(values)\n",
    "    stdev = statistics.stdev(values)\n",
    "    threshold = mean + factor * stdev\n",
    "    return [v for v in values if v > threshold], mean\n",
    "\n"
   ]
  },
  {
   "cell_type": "code",
   "execution_count": 2,
   "id": "eb7f675b",
   "metadata": {},
   "outputs": [],
   "source": [
    "# eval LLM_vanilla accuracy \n",
    "\n",
    "def test_accuracy_vanilla_LLM(result_folder):\n",
    "    folder = Path(result_folder)\n",
    "    file_paths = [str(file) for file in folder.iterdir() if file.is_file()]\n",
    "    cnt = 0\n",
    "    true_cnt = 0\n",
    "    for file in file_paths:\n",
    "        print(file)\n",
    "        if '.json' not in file:\n",
    "            continue\n",
    "        object = read_json(file)\n",
    "        if 'status' in object:\n",
    "            if object['status'] == 'NA':\n",
    "                continue\n",
    "        cnt += 1\n",
    "        question = object['question']\n",
    "        answers = object['answers']\n",
    "        provenance = object['provenance']\n",
    "        title = object['title']\n",
    "        new_ans, in_tokens, out_tokens = doc_provenance.QA(question, provenance)\n",
    "        # print(question)\n",
    "        # print(answers)\n",
    "        # print(new_ans)\n",
    "        if doc_provenance.equal(answers, new_ans, question, 'LLM'):\n",
    "            print('Matched!', answers, new_ans, true_cnt+1, cnt, title)\n",
    "            true_cnt += 1\n",
    "    \n",
    "    accuracy = true_cnt/cnt\n",
    "\n",
    "    return accuracy, cnt, true_cnt "
   ]
  },
  {
   "cell_type": "code",
   "execution_count": null,
   "id": "588e7837",
   "metadata": {},
   "outputs": [],
   "source": [
    "model_name = 'gpt4omini'\n",
    "data = 'paper'\n",
    "\n",
    "doc_provenance.set_model(model_name)\n",
    "result_folder = '/Users/yiminglin/Documents/Codebase/doc_provenance_results/' + model_name  + '/eval' + '/' + data + '/results/'\n",
    "\n",
    "accuracy, cnt, true_cnt = test_accuracy_vanilla_LLM(result_folder)\n",
    "\n",
    "print(accuracy)"
   ]
  },
  {
   "cell_type": "code",
   "execution_count": null,
   "id": "7afcc39e",
   "metadata": {},
   "outputs": [],
   "source": [
    "model_name = 'gpt4omini'\n",
    "data = 'hotpotQA'\n",
    "\n",
    "doc_provenance.set_model(model_name)\n",
    "result_folder = '/Users/yiminglin/Documents/Codebase/doc_provenance_results/' + model_name  + '/eval' + '/' + data + '/results/'\n",
    "\n",
    "accuracy, cnt, true_cnt = test_accuracy_vanilla_LLM(result_folder)\n",
    "\n",
    "print(accuracy)"
   ]
  },
  {
   "cell_type": "code",
   "execution_count": null,
   "id": "258f87c7",
   "metadata": {},
   "outputs": [],
   "source": [
    "model_name = 'gpt4omini'\n",
    "data = 'nl_dev'\n",
    "\n",
    "doc_provenance.set_model(model_name)\n",
    "result_folder = '/Users/yiminglin/Documents/Codebase/doc_provenance_results/' + model_name  + '/eval' + '/' + data + '/results/'\n",
    "\n",
    "accuracy, cnt, true_cnt = test_accuracy_vanilla_LLM(result_folder)\n",
    "\n",
    "print(accuracy)"
   ]
  }
 ],
 "metadata": {
  "kernelspec": {
   "display_name": "base",
   "language": "python",
   "name": "python3"
  },
  "language_info": {
   "codemirror_mode": {
    "name": "ipython",
    "version": 3
   },
   "file_extension": ".py",
   "mimetype": "text/x-python",
   "name": "python",
   "nbconvert_exporter": "python",
   "pygments_lexer": "ipython3",
   "version": "3.9.7"
  }
 },
 "nbformat": 4,
 "nbformat_minor": 5
}
